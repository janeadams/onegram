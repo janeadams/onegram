{
 "cells": [
  {
   "cell_type": "code",
   "execution_count": 1,
   "metadata": {},
   "outputs": [],
   "source": [
    "import pandas as pd\n",
    "import dash\n",
    "import flask\n",
    "from dash.dependencies import Input, Output\n",
    "import dash_core_components as dcc\n",
    "import dash_html_components as html\n",
    "from pandas_datareader import data as web\n",
    "from datetime import datetime as dt"
   ]
  },
  {
   "cell_type": "code",
   "execution_count": 2,
   "metadata": {},
   "outputs": [],
   "source": [
    "mypath = \"output/\"\n",
    "from os import listdir\n",
    "from os.path import isfile, join\n",
    "filelist = [f for f in listdir(mypath) if isfile(join(mypath, f))]\n",
    "wordlist = [name[:-4] for name in filelist]"
   ]
  },
  {
   "cell_type": "code",
   "execution_count": 3,
   "metadata": {},
   "outputs": [],
   "source": [
    "def load(word):\n",
    "    #df = pickle.load( open(str(mypath+word+\".pkl\")) )\n",
    "    df = pd.read_csv(str(mypath+word+\".txt\"), sep=\" \", skipinitialspace=True)\n",
    "    df.columns=['Date','Rank','Count']\n",
    "    df['Date'] = [dt.strptime(date, '%Y-%m-%d  %H:%M:%S') for date in df['Date']]\n",
    "    df['Year'] = [date.year for date in df['Date']]\n",
    "    df['Day'] = [date.timetuple().tm_yday for date in df['Date']]\n",
    "    return df"
   ]
  },
  {
   "cell_type": "code",
   "execution_count": 4,
   "metadata": {},
   "outputs": [],
   "source": [
    "options=[]\n",
    "for word in wordlist:\n",
    "    options.append({'label': word, 'value': word})"
   ]
  },
  {
   "cell_type": "code",
   "execution_count": null,
   "metadata": {},
   "outputs": [
    {
     "name": "stdout",
     "output_type": "stream",
     "text": [
      " * Serving Flask app \"__main__\" (lazy loading)\n",
      " * Environment: production\n",
      "   WARNING: Do not use the development server in a production environment.\n",
      "   Use a production WSGI server instead.\n",
      " * Debug mode: off\n"
     ]
    },
    {
     "name": "stderr",
     "output_type": "stream",
     "text": [
      " * Running on http://127.0.0.1:8050/ (Press CTRL+C to quit)\n",
      "127.0.0.1 - - [01/Feb/2019 15:37:57] \"GET / HTTP/1.1\" 200 -\n",
      "127.0.0.1 - - [01/Feb/2019 15:37:57] \"GET /styles.css HTTP/1.1\" 200 -\n",
      "127.0.0.1 - - [01/Feb/2019 15:37:58] \"GET /_dash-dependencies HTTP/1.1\" 200 -\n",
      "127.0.0.1 - - [01/Feb/2019 15:37:58] \"GET /_dash-layout HTTP/1.1\" 200 -\n",
      "127.0.0.1 - - [01/Feb/2019 15:37:59] \"POST /_dash-update-component HTTP/1.1\" 200 -\n"
     ]
    }
   ],
   "source": [
    "external_stylesheets = ['styles.css']\n",
    "\n",
    "server = flask.Flask(__name__)\n",
    "\n",
    "app = dash.Dash(__name__, server=server, external_stylesheets=external_stylesheets)\n",
    "\n",
    "app.layout = html.Div([\n",
    "    html.H1('Twitter 1-grams'),\n",
    "    dcc.Dropdown(\n",
    "        id='my-dropdown',\n",
    "        options = options,\n",
    "        value=['@realdonaldtrump','@hillaryclinton','@barackobama'],\n",
    "        multi=True\n",
    "    ),\n",
    "    dcc.Graph(id='my-graph'),\n",
    "])\n",
    "\n",
    "@app.callback(Output('my-graph', 'figure'), [Input('my-dropdown', 'value')])\n",
    "def update_graph(selected_dropdown_value):\n",
    "    data=[]\n",
    "    figure = {'data':data}\n",
    "    for item in selected_dropdown_value:\n",
    "        df = load(item)\n",
    "        data.append({'x':df['Date'], 'y':df['Rank'],'name':item})\n",
    "    return figure\n",
    "\n",
    "\n",
    "if __name__ == '__main__':\n",
    "    app.run_server()"
   ]
  },
  {
   "cell_type": "code",
   "execution_count": null,
   "metadata": {},
   "outputs": [],
   "source": []
  },
  {
   "cell_type": "code",
   "execution_count": null,
   "metadata": {},
   "outputs": [],
   "source": []
  }
 ],
 "metadata": {
  "kernelspec": {
   "display_name": "Python 3",
   "language": "python",
   "name": "python3"
  },
  "language_info": {
   "codemirror_mode": {
    "name": "ipython",
    "version": 3
   },
   "file_extension": ".py",
   "mimetype": "text/x-python",
   "name": "python",
   "nbconvert_exporter": "python",
   "pygments_lexer": "ipython3",
   "version": "3.7.2"
  }
 },
 "nbformat": 4,
 "nbformat_minor": 2
}
