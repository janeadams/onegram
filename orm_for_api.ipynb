{
 "cells": [
  {
   "cell_type": "code",
   "execution_count": 487,
   "metadata": {},
   "outputs": [],
   "source": [
    "import json\n",
    "import pandas as pd\n",
    "import numpy as np\n",
    "import datetime as dt"
   ]
  },
  {
   "cell_type": "code",
   "execution_count": 488,
   "metadata": {},
   "outputs": [],
   "source": [
    "query='christmas'"
   ]
  },
  {
   "cell_type": "code",
   "execution_count": 489,
   "metadata": {},
   "outputs": [],
   "source": [
    "output=dict()"
   ]
  },
  {
   "cell_type": "code",
   "execution_count": 490,
   "metadata": {},
   "outputs": [],
   "source": [
    "output['word']=query"
   ]
  },
  {
   "cell_type": "code",
   "execution_count": 491,
   "metadata": {},
   "outputs": [],
   "source": [
    "# Open JSON <---- THIS WILL BE REPLACED WITH MONGO QUERY\n",
    "with open('d3demo/json/'+word+'.json', \"r\") as read_file:\n",
    "    data = json.load(read_file)"
   ]
  },
  {
   "cell_type": "code",
   "execution_count": 492,
   "metadata": {},
   "outputs": [],
   "source": [
    "# Set columns for df\n",
    "columns=['counts','rank','time']"
   ]
  },
  {
   "cell_type": "code",
   "execution_count": 493,
   "metadata": {},
   "outputs": [],
   "source": [
    "# Build df\n",
    "df=pd.DataFrame(data, columns=columns)"
   ]
  },
  {
   "cell_type": "code",
   "execution_count": 494,
   "metadata": {},
   "outputs": [],
   "source": [
    "# Calculate min, max, and mean rank\n",
    "output['maxrank']=min(df['rank'].values)\n",
    "output['minrank']=max(df['rank'].values)\n",
    "output['meanrank']=np.round(np.mean(df['rank'].values)).astype(int)"
   ]
  },
  {
   "cell_type": "code",
   "execution_count": 495,
   "metadata": {},
   "outputs": [],
   "source": [
    "# Pull out beginning part of date (YY-MM-DD)\n",
    "df['time'] = [t[:10] for t in df['time']]\n",
    "# Convert date to date object\n",
    "df['time'] = [dt.datetime.strptime(t, '%Y-%m-%d').date() for t in df['time']]\n",
    "# Index df by date\n",
    "df.set_index('time',inplace=True)\n",
    "# Find today's date\n",
    "dt.datetime.today().date()\n",
    "# How many days should we have in our dataset?\n",
    "daterange=(dt.datetime.today().date()-df.index.min()).days\n",
    "# Which days are we missing data for?\n",
    "# Get a list of all days between today and the beginning of time...\n",
    "missingdays=[(dt.datetime.today() - dt.timedelta(days=x+1)).date() for x in range(daterange)]\n",
    "# ... then remove any days that we *do* have in our data from our list of missing dates:\n",
    "for day in df.index:\n",
    "    missingdays.remove(day)\n",
    "# Fill any missing days with placeholder values\n",
    "for day in missingdays:\n",
    "    df.loc[day] = None\n",
    "    df.loc[day]['counts'] = 0\n",
    "    df.loc[day]['rank'] = 999999999\n",
    "# Sort days\n",
    "df.sort_values(by='time',ascending=False,inplace=True)"
   ]
  },
  {
   "cell_type": "code",
   "execution_count": 496,
   "metadata": {},
   "outputs": [],
   "source": [
    "# Convert time back to a string\n",
    "df.index=[t.strftime(\"%Y-%m-%d\") for t in df.index]"
   ]
  },
  {
   "cell_type": "code",
   "execution_count": 497,
   "metadata": {},
   "outputs": [],
   "source": [
    "# Send dates, ranks and counts as arrays to the output dict\n",
    "output['times']=df.index.values\n",
    "output['ranks']=df['rank'].values\n",
    "output['counts']=df['counts'].values"
   ]
  },
  {
   "cell_type": "code",
   "execution_count": 498,
   "metadata": {},
   "outputs": [
    {
     "data": {
      "text/plain": [
       "{'word': 'christmas',\n",
       " 'maxrank': 15,\n",
       " 'minrank': 41858,\n",
       " 'meanrank': 13129,\n",
       " 'times': array(['2019-07-31', '2019-07-30', '2019-07-29', ..., '2006-11-02',\n",
       "        '2006-11-01', '2006-10-31'], dtype=object),\n",
       " 'ranks': array([9.99999999e+08, 9.99999999e+08, 9.99999999e+08, ...,\n",
       "        9.99999999e+08, 2.60000000e+01, 1.50000000e+01]),\n",
       " 'counts': array([ 0.,  0.,  0., ...,  0., 20., 34.])}"
      ]
     },
     "execution_count": 498,
     "metadata": {},
     "output_type": "execute_result"
    }
   ],
   "source": [
    "output"
   ]
  },
  {
   "cell_type": "code",
   "execution_count": null,
   "metadata": {},
   "outputs": [],
   "source": []
  }
 ],
 "metadata": {
  "kernelspec": {
   "display_name": "Python (TestEnv)",
   "language": "python",
   "name": "test_env"
  },
  "language_info": {
   "codemirror_mode": {
    "name": "ipython",
    "version": 3
   },
   "file_extension": ".py",
   "mimetype": "text/x-python",
   "name": "python",
   "nbconvert_exporter": "python",
   "pygments_lexer": "ipython3",
   "version": "3.7.2"
  }
 },
 "nbformat": 4,
 "nbformat_minor": 2
}
