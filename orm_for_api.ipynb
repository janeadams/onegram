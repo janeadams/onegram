{
 "cells": [
  {
   "cell_type": "code",
   "execution_count": 125,
   "metadata": {},
   "outputs": [],
   "source": [
    "import json\n",
    "import pandas as pd\n",
    "import numpy as np\n",
    "import datetime as dt"
   ]
  },
  {
   "cell_type": "code",
   "execution_count": 148,
   "metadata": {},
   "outputs": [],
   "source": [
    "query='easter'"
   ]
  },
  {
   "cell_type": "code",
   "execution_count": 149,
   "metadata": {},
   "outputs": [],
   "source": [
    "output=dict()"
   ]
  },
  {
   "cell_type": "code",
   "execution_count": 150,
   "metadata": {},
   "outputs": [],
   "source": [
    "output['word']=query"
   ]
  },
  {
   "cell_type": "code",
   "execution_count": 151,
   "metadata": {},
   "outputs": [],
   "source": [
    "# Open JSON <---- THIS WILL BE REPLACED WITH MONGO QUERY\n",
    "with open('d3demo/json/'+query+'.json', \"r\") as read_file:\n",
    "    data = json.load(read_file)"
   ]
  },
  {
   "cell_type": "code",
   "execution_count": 152,
   "metadata": {},
   "outputs": [],
   "source": [
    "# Set columns for df\n",
    "columns=['counts','rank','time']"
   ]
  },
  {
   "cell_type": "code",
   "execution_count": 153,
   "metadata": {},
   "outputs": [],
   "source": [
    "# Build df\n",
    "df=pd.DataFrame(data, columns=columns)"
   ]
  },
  {
   "cell_type": "code",
   "execution_count": 154,
   "metadata": {},
   "outputs": [],
   "source": [
    "# Calculate min, max, and mean rank\n",
    "output['maxrank']=int(min(df['rank'].values))\n",
    "output['minrank']=int(max(df['rank'].values))\n",
    "output['meanrank']=int(np.round(np.mean(df['rank'].values)))"
   ]
  },
  {
   "cell_type": "code",
   "execution_count": 155,
   "metadata": {},
   "outputs": [],
   "source": [
    "# Pull out beginning part of date (YY-MM-DD)\n",
    "df['time'] = [t[:10] for t in df['time']]\n",
    "# Convert date to date object\n",
    "df['time'] = [dt.datetime.strptime(t, '%Y-%m-%d').date() for t in df['time']]\n",
    "# Index df by date\n",
    "df.set_index('time',inplace=True)\n",
    "# Find today's date\n",
    "dt.datetime.today().date()\n",
    "# How many days should we have in our dataset?\n",
    "daterange=(dt.datetime.today().date()-df.index.min()).days\n",
    "# Which days are we missing data for?\n",
    "# Get a list of all days between today and the beginning of time...\n",
    "missingdays=[(dt.datetime.today() - dt.timedelta(days=x+1)).date() for x in range(daterange)]\n",
    "# ... then remove any days that we *do* have in our data from our list of missing dates:\n",
    "for day in df.index:\n",
    "    missingdays.remove(day)\n",
    "# Fill any missing days with placeholder values\n",
    "for day in missingdays:\n",
    "    df.loc[day] = None\n",
    "    df.loc[day]['counts'] = int(0)\n",
    "    df.loc[day]['rank'] = int(999999999)\n",
    "# Sort days\n",
    "df.sort_values(by='time',ascending=False,inplace=True)"
   ]
  },
  {
   "cell_type": "code",
   "execution_count": 156,
   "metadata": {},
   "outputs": [],
   "source": [
    "# Convert time back to a string\n",
    "df.index=[t.strftime(\"%Y-%m-%d\") for t in df.index]"
   ]
  },
  {
   "cell_type": "code",
   "execution_count": 157,
   "metadata": {},
   "outputs": [],
   "source": [
    "# Send dates, ranks and counts as arrays to the output dict\n",
    "output['times']=df.index.values.tolist()\n",
    "output['ranks']=[int(r) for r in df['rank'].values] # Convert from int64 to Python integers\n",
    "output['counts']=[int(c) for c in df['counts'].values] # Convert from int64 to Python integers"
   ]
  },
  {
   "cell_type": "code",
   "execution_count": 158,
   "metadata": {},
   "outputs": [],
   "source": [
    "with open('d3demo/json_from_api/'+query+'.json', 'w') as outfile:\n",
    "    json.dump(output, outfile)"
   ]
  },
  {
   "cell_type": "code",
   "execution_count": null,
   "metadata": {},
   "outputs": [],
   "source": []
  }
 ],
 "metadata": {
  "kernelspec": {
   "display_name": "Python (TestEnv)",
   "language": "python",
   "name": "test_env"
  },
  "language_info": {
   "codemirror_mode": {
    "name": "ipython",
    "version": 3
   },
   "file_extension": ".py",
   "mimetype": "text/x-python",
   "name": "python",
   "nbconvert_exporter": "python",
   "pygments_lexer": "ipython3",
   "version": "3.7.2"
  }
 },
 "nbformat": 4,
 "nbformat_minor": 2
}
