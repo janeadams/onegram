{
 "cells": [
  {
   "cell_type": "code",
   "execution_count": 1,
   "metadata": {},
   "outputs": [],
   "source": [
    "import pandas as pd\n",
    "import numpy as np\n",
    "import dash\n",
    "import flask\n",
    "from dash.dependencies import Input, Output\n",
    "import dash_core_components as dcc\n",
    "import dash_html_components as html\n",
    "from pandas_datareader import data as web\n",
    "from datetime import datetime as dt"
   ]
  },
  {
   "cell_type": "code",
   "execution_count": 2,
   "metadata": {},
   "outputs": [],
   "source": [
    "import pymongo"
   ]
  },
  {
   "cell_type": "code",
   "execution_count": 7,
   "metadata": {},
   "outputs": [],
   "source": [
    "import yaml"
   ]
  },
  {
   "cell_type": "code",
   "execution_count": 17,
   "metadata": {},
   "outputs": [],
   "source": [
    "with open(\".passwords/mongo_pwd.yml\", 'r') as stream:\n",
    "    try:\n",
    "        auth = yaml.load(stream)\n",
    "    except yaml.YAMLError as exc:\n",
    "        print(exc)"
   ]
  },
  {
   "cell_type": "code",
   "execution_count": 18,
   "metadata": {},
   "outputs": [],
   "source": [
    "client = pymongo.MongoClient('mongodb://%s:%s@127.0.0.1' % ('guest', auth['password']))\n",
    "db = client[\"1-gram_time\"]"
   ]
  },
  {
   "cell_type": "code",
   "execution_count": 19,
   "metadata": {},
   "outputs": [
    {
     "data": {
      "text/html": [
       "<div>\n",
       "<style scoped>\n",
       "    .dataframe tbody tr th:only-of-type {\n",
       "        vertical-align: middle;\n",
       "    }\n",
       "\n",
       "    .dataframe tbody tr th {\n",
       "        vertical-align: top;\n",
       "    }\n",
       "\n",
       "    .dataframe thead th {\n",
       "        text-align: right;\n",
       "    }\n",
       "</style>\n",
       "<table border=\"1\" class=\"dataframe\">\n",
       "  <thead>\n",
       "    <tr style=\"text-align: right;\">\n",
       "      <th></th>\n",
       "      <th>_id</th>\n",
       "      <th>counts</th>\n",
       "      <th>rank</th>\n",
       "      <th>time</th>\n",
       "      <th>word</th>\n",
       "    </tr>\n",
       "  </thead>\n",
       "  <tbody>\n",
       "    <tr>\n",
       "      <th>0</th>\n",
       "      <td>5c328d4a5920610636fb2ca0</td>\n",
       "      <td>2374312</td>\n",
       "      <td>8</td>\n",
       "      <td>2018-05-20</td>\n",
       "      <td>and</td>\n",
       "    </tr>\n",
       "    <tr>\n",
       "      <th>1</th>\n",
       "      <td>5c328d4d5920610636fcb3dc</td>\n",
       "      <td>2011354</td>\n",
       "      <td>9</td>\n",
       "      <td>2014-07-06</td>\n",
       "      <td>and</td>\n",
       "    </tr>\n",
       "    <tr>\n",
       "      <th>2</th>\n",
       "      <td>5c328d505920610636fe3b09</td>\n",
       "      <td>130232</td>\n",
       "      <td>9</td>\n",
       "      <td>2010-02-22</td>\n",
       "      <td>and</td>\n",
       "    </tr>\n",
       "    <tr>\n",
       "      <th>3</th>\n",
       "      <td>5c328d545920610636ffe431</td>\n",
       "      <td>1827301</td>\n",
       "      <td>9</td>\n",
       "      <td>2018-05-03</td>\n",
       "      <td>and</td>\n",
       "    </tr>\n",
       "    <tr>\n",
       "      <th>4</th>\n",
       "      <td>5c328d575920610636016df4</td>\n",
       "      <td>1917554</td>\n",
       "      <td>9</td>\n",
       "      <td>2015-02-17</td>\n",
       "      <td>and</td>\n",
       "    </tr>\n",
       "  </tbody>\n",
       "</table>\n",
       "</div>"
      ],
      "text/plain": [
       "                        _id   counts rank       time word\n",
       "0  5c328d4a5920610636fb2ca0  2374312    8 2018-05-20  and\n",
       "1  5c328d4d5920610636fcb3dc  2011354    9 2014-07-06  and\n",
       "2  5c328d505920610636fe3b09   130232    9 2010-02-22  and\n",
       "3  5c328d545920610636ffe431  1827301    9 2018-05-03  and\n",
       "4  5c328d575920610636016df4  1917554    9 2015-02-17  and"
      ]
     },
     "execution_count": 19,
     "metadata": {},
     "output_type": "execute_result"
    }
   ],
   "source": [
    "df = pd.DataFrame(list(db[\"tweets\"].find({ \"word\": \"and\" })))\n",
    "df.head(5)"
   ]
  },
  {
   "cell_type": "code",
   "execution_count": 20,
   "metadata": {},
   "outputs": [],
   "source": [
    "def load(word):\n",
    "    df = pd.DataFrame(list(db[\"tweets\"].find({ \"word\": word})))\n",
    "    #df['date'] = [dt.strptime(time, '%Y-%m-%d') for time in df['time']]\n",
    "    df['year'] = [date.year for date in df['time']]\n",
    "    df['day'] = [date.timetuple().tm_yday for date in df['time']]\n",
    "    return df"
   ]
  },
  {
   "cell_type": "code",
   "execution_count": null,
   "metadata": {},
   "outputs": [],
   "source": []
  },
  {
   "cell_type": "code",
   "execution_count": null,
   "metadata": {},
   "outputs": [],
   "source": [
    "external_stylesheets = ['styles.css']\n",
    "\n",
    "server = flask.Flask(__name__)\n",
    "\n",
    "app = dash.Dash(__name__, server=server, external_stylesheets=external_stylesheets)\n",
    "\n",
    "app.layout = html.Div([\n",
    "    html.H1('Twitter 1-grams'),\n",
    "    dcc.Dropdown(\n",
    "        id='my-dropdown',\n",
    "        options = options,\n",
    "        value=['@realdonaldtrump','@hillaryclinton','@barackobama'],\n",
    "        multi=True\n",
    "    ),\n",
    "    dcc.Graph(id='my-graph'),\n",
    "])\n",
    "\n",
    "@app.callback(Output('my-graph', 'figure'), [Input('my-dropdown', 'value')])\n",
    "def update_graph(selected_dropdown_value):\n",
    "    data=[]\n",
    "    figure = {'data':data}\n",
    "    for item in selected_dropdown_value:\n",
    "        df = load(item)\n",
    "        data.append({'x':df['Date'], 'y':df['Rank'],'name':item})\n",
    "    return figure\n",
    "\n",
    "\n",
    "if __name__ == '__main__':\n",
    "    app.run_server()"
   ]
  },
  {
   "cell_type": "code",
   "execution_count": null,
   "metadata": {},
   "outputs": [],
   "source": []
  },
  {
   "cell_type": "code",
   "execution_count": null,
   "metadata": {},
   "outputs": [],
   "source": []
  }
 ],
 "metadata": {
  "kernelspec": {
   "display_name": "Python (TestEnv)",
   "language": "python",
   "name": "test_env"
  },
  "language_info": {
   "codemirror_mode": {
    "name": "ipython",
    "version": 3
   },
   "file_extension": ".py",
   "mimetype": "text/x-python",
   "name": "python",
   "nbconvert_exporter": "python",
   "pygments_lexer": "ipython3",
   "version": "3.7.2"
  }
 },
 "nbformat": 4,
 "nbformat_minor": 2
}
