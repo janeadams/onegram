{
 "cells": [
  {
   "cell_type": "code",
   "execution_count": 1,
   "metadata": {},
   "outputs": [],
   "source": [
    "import pymongo"
   ]
  },
  {
   "cell_type": "code",
   "execution_count": 2,
   "metadata": {},
   "outputs": [
    {
     "data": {
      "text/plain": [
       "True"
      ]
     },
     "execution_count": 2,
     "metadata": {},
     "output_type": "execute_result"
    }
   ],
   "source": [
    "from dotenv import load_dotenv\n",
    "load_dotenv()"
   ]
  },
  {
   "cell_type": "code",
   "execution_count": 3,
   "metadata": {},
   "outputs": [],
   "source": [
    "import os"
   ]
  },
  {
   "cell_type": "code",
   "execution_count": 4,
   "metadata": {},
   "outputs": [],
   "source": [
    "password = os.getenv(\"PASSWORD\")"
   ]
  },
  {
   "cell_type": "code",
   "execution_count": 5,
   "metadata": {},
   "outputs": [],
   "source": [
    "username = os.getenv(\"USERNAME\")"
   ]
  },
  {
   "cell_type": "code",
   "execution_count": 6,
   "metadata": {},
   "outputs": [],
   "source": [
    "client = pymongo.MongoClient('mongodb://%s:%s@127.0.0.1' % (username, password))\n",
    "db = client[\"1-gram_time\"]"
   ]
  },
  {
   "cell_type": "code",
   "execution_count": 28,
   "metadata": {},
   "outputs": [
    {
     "data": {
      "text/html": [
       "<div>\n",
       "<style scoped>\n",
       "    .dataframe tbody tr th:only-of-type {\n",
       "        vertical-align: middle;\n",
       "    }\n",
       "\n",
       "    .dataframe tbody tr th {\n",
       "        vertical-align: top;\n",
       "    }\n",
       "\n",
       "    .dataframe thead th {\n",
       "        text-align: right;\n",
       "    }\n",
       "</style>\n",
       "<table border=\"1\" class=\"dataframe\">\n",
       "  <thead>\n",
       "    <tr style=\"text-align: right;\">\n",
       "      <th></th>\n",
       "      <th>_id</th>\n",
       "      <th>counts</th>\n",
       "      <th>rank</th>\n",
       "      <th>time</th>\n",
       "      <th>word</th>\n",
       "    </tr>\n",
       "  </thead>\n",
       "  <tbody>\n",
       "    <tr>\n",
       "      <th>0</th>\n",
       "      <td>5c328d4a5920610636fb2ca0</td>\n",
       "      <td>2374312</td>\n",
       "      <td>8</td>\n",
       "      <td>2018-05-20</td>\n",
       "      <td>and</td>\n",
       "    </tr>\n",
       "    <tr>\n",
       "      <th>1</th>\n",
       "      <td>5c328d4d5920610636fcb3dc</td>\n",
       "      <td>2011354</td>\n",
       "      <td>9</td>\n",
       "      <td>2014-07-06</td>\n",
       "      <td>and</td>\n",
       "    </tr>\n",
       "    <tr>\n",
       "      <th>2</th>\n",
       "      <td>5c328d505920610636fe3b09</td>\n",
       "      <td>130232</td>\n",
       "      <td>9</td>\n",
       "      <td>2010-02-22</td>\n",
       "      <td>and</td>\n",
       "    </tr>\n",
       "    <tr>\n",
       "      <th>3</th>\n",
       "      <td>5c328d545920610636ffe431</td>\n",
       "      <td>1827301</td>\n",
       "      <td>9</td>\n",
       "      <td>2018-05-03</td>\n",
       "      <td>and</td>\n",
       "    </tr>\n",
       "    <tr>\n",
       "      <th>4</th>\n",
       "      <td>5c328d575920610636016df4</td>\n",
       "      <td>1917554</td>\n",
       "      <td>9</td>\n",
       "      <td>2015-02-17</td>\n",
       "      <td>and</td>\n",
       "    </tr>\n",
       "  </tbody>\n",
       "</table>\n",
       "</div>"
      ],
      "text/plain": [
       "                        _id   counts rank       time word\n",
       "0  5c328d4a5920610636fb2ca0  2374312    8 2018-05-20  and\n",
       "1  5c328d4d5920610636fcb3dc  2011354    9 2014-07-06  and\n",
       "2  5c328d505920610636fe3b09   130232    9 2010-02-22  and\n",
       "3  5c328d545920610636ffe431  1827301    9 2018-05-03  and\n",
       "4  5c328d575920610636016df4  1917554    9 2015-02-17  and"
      ]
     },
     "execution_count": 28,
     "metadata": {},
     "output_type": "execute_result"
    }
   ],
   "source": [
    "df = pd.DataFrame(list(db[\"tweets\"].find({ \"word\": \"and\" })))\n",
    "df.head(5)"
   ]
  },
  {
   "cell_type": "markdown",
   "metadata": {},
   "source": [
    "### Pull all unique words\n",
    "From https://docs.mongodb.com/manual/reference/operator/aggregation/group/#aggregation-group-distinct-values"
   ]
  },
  {
   "cell_type": "code",
   "execution_count": 36,
   "metadata": {},
   "outputs": [],
   "source": [
    "wordlist = list(db.tweets.aggregate( [ { \"$group\" : { \"_id\" : \"$word\" } } ], allowDiskUse=True))"
   ]
  },
  {
   "cell_type": "code",
   "execution_count": 49,
   "metadata": {},
   "outputs": [
    {
     "data": {
      "text/plain": [
       "21774095"
      ]
     },
     "execution_count": 49,
     "metadata": {},
     "output_type": "execute_result"
    }
   ],
   "source": [
    "len(wordlist)"
   ]
  },
  {
   "cell_type": "code",
   "execution_count": 9,
   "metadata": {},
   "outputs": [],
   "source": [
    "import csv"
   ]
  },
  {
   "cell_type": "code",
   "execution_count": 50,
   "metadata": {},
   "outputs": [],
   "source": [
    "c = csv.writer(open(\"wordlist.csv\",\"wt\"))\n",
    "for row in wordlist:\n",
    "    c.writerow([row['_id']])"
   ]
  }
 ],
 "metadata": {
  "kernelspec": {
   "display_name": "Python (TestEnv)",
   "language": "python",
   "name": "test_env"
  },
  "language_info": {
   "codemirror_mode": {
    "name": "ipython",
    "version": 3
   },
   "file_extension": ".py",
   "mimetype": "text/x-python",
   "name": "python",
   "nbconvert_exporter": "python",
   "pygments_lexer": "ipython3",
   "version": "3.7.2"
  }
 },
 "nbformat": 4,
 "nbformat_minor": 2
}
