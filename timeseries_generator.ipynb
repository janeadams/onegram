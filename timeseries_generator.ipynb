{
 "cells": [
  {
   "cell_type": "code",
   "execution_count": 29,
   "metadata": {},
   "outputs": [
    {
     "ename": "ImportError",
     "evalue": "cannot import name 'Event' from 'dash.dependencies' (/home/janeadams/.conda/envs/test_env/lib/python3.7/site-packages/dash/dependencies.py)",
     "output_type": "error",
     "traceback": [
      "\u001b[0;31m---------------------------------------------------------------------------\u001b[0m",
      "\u001b[0;31mImportError\u001b[0m                               Traceback (most recent call last)",
      "\u001b[0;32m<ipython-input-29-82baf15c5cdf>\u001b[0m in \u001b[0;36m<module>\u001b[0;34m\u001b[0m\n\u001b[1;32m      3\u001b[0m \u001b[0;32mimport\u001b[0m \u001b[0mdash\u001b[0m\u001b[0;34m\u001b[0m\u001b[0;34m\u001b[0m\u001b[0m\n\u001b[1;32m      4\u001b[0m \u001b[0;32mimport\u001b[0m \u001b[0mflask\u001b[0m\u001b[0;34m\u001b[0m\u001b[0;34m\u001b[0m\u001b[0m\n\u001b[0;32m----> 5\u001b[0;31m \u001b[0;32mfrom\u001b[0m \u001b[0mdash\u001b[0m\u001b[0;34m.\u001b[0m\u001b[0mdependencies\u001b[0m \u001b[0;32mimport\u001b[0m \u001b[0mInput\u001b[0m\u001b[0;34m,\u001b[0m \u001b[0mOutput\u001b[0m\u001b[0;34m,\u001b[0m \u001b[0mState\u001b[0m\u001b[0;34m,\u001b[0m \u001b[0mEvent\u001b[0m\u001b[0;34m\u001b[0m\u001b[0;34m\u001b[0m\u001b[0m\n\u001b[0m\u001b[1;32m      6\u001b[0m \u001b[0;32mimport\u001b[0m \u001b[0mdash_core_components\u001b[0m \u001b[0;32mas\u001b[0m \u001b[0mdcc\u001b[0m\u001b[0;34m\u001b[0m\u001b[0;34m\u001b[0m\u001b[0m\n\u001b[1;32m      7\u001b[0m \u001b[0;32mimport\u001b[0m \u001b[0mdash_html_components\u001b[0m \u001b[0;32mas\u001b[0m \u001b[0mhtml\u001b[0m\u001b[0;34m\u001b[0m\u001b[0;34m\u001b[0m\u001b[0m\n",
      "\u001b[0;31mImportError\u001b[0m: cannot import name 'Event' from 'dash.dependencies' (/home/janeadams/.conda/envs/test_env/lib/python3.7/site-packages/dash/dependencies.py)"
     ]
    }
   ],
   "source": [
    "import pandas as pd\n",
    "import numpy as np\n",
    "import dash\n",
    "import flask\n",
    "from dash.dependencies import Input, Output, State, Event\n",
    "import dash_core_components as dcc\n",
    "import dash_html_components as html\n",
    "from pandas_datareader import data as web\n",
    "from datetime import datetime as dt"
   ]
  },
  {
   "cell_type": "code",
   "execution_count": 4,
   "metadata": {},
   "outputs": [],
   "source": [
    "import pymongo"
   ]
  },
  {
   "cell_type": "code",
   "execution_count": 5,
   "metadata": {},
   "outputs": [],
   "source": [
    "from dotenv import load_dotenv\n",
    "load_dotenv()\n",
    "import os\n",
    "password = os.getenv(\"PASSWORD\")\n",
    "username = os.getenv(\"USERNAME\")"
   ]
  },
  {
   "cell_type": "code",
   "execution_count": 6,
   "metadata": {},
   "outputs": [],
   "source": [
    "client = pymongo.MongoClient('mongodb://%s:%s@127.0.0.1' % (username, password))\n",
    "db = client[\"1-grams\"]"
   ]
  },
  {
   "cell_type": "code",
   "execution_count": 7,
   "metadata": {},
   "outputs": [],
   "source": [
    "def load(word):\n",
    "    try:\n",
    "        df = pd.DataFrame(list(db[\"tweets\"].find({ \"word\": word})))\n",
    "        df = df.sort_values(by=['time'])\n",
    "        df['year'] = [date.year for date in df['time']]\n",
    "        df['day'] = [date.timetuple().tm_yday for date in df['time']]\n",
    "        return df\n",
    "    except:\n",
    "        print(str(\"No timeseries found for \"+word))\n",
    "        df = pd.DataFrame()\n",
    "        return df"
   ]
  },
  {
   "cell_type": "code",
   "execution_count": 8,
   "metadata": {},
   "outputs": [
    {
     "data": {
      "text/plain": [
       "70064"
      ]
     },
     "execution_count": 8,
     "metadata": {},
     "output_type": "execute_result"
    }
   ],
   "source": [
    "q = load('easter')\n",
    "q.sort_values(by='rank')\n",
    "q['rank'].max()"
   ]
  },
  {
   "cell_type": "markdown",
   "metadata": {},
   "source": [
    "# Input box for query"
   ]
  },
  {
   "cell_type": "code",
   "execution_count": 73,
   "metadata": {},
   "outputs": [
    {
     "name": "stdout",
     "output_type": "stream",
     "text": [
      " * Serving Flask app \"__main__\" (lazy loading)\n",
      " * Environment: production\n",
      "   WARNING: Do not use the development server in a production environment.\n",
      "   Use a production WSGI server instead.\n",
      " * Debug mode: off\n"
     ]
    },
    {
     "name": "stderr",
     "output_type": "stream",
     "text": [
      " * Running on http://0.0.0.0:8051/ (Press CTRL+C to quit)\n",
      "10.245.186.62 - - [18/Apr/2019 16:53:54] \"GET / HTTP/1.1\" 200 -\n",
      "10.245.186.62 - - [18/Apr/2019 16:53:54] \"GET /styles.css HTTP/1.1\" 200 -\n",
      "10.245.186.62 - - [18/Apr/2019 16:53:54] \"GET /_dash-layout HTTP/1.1\" 200 -\n",
      "10.245.186.62 - - [18/Apr/2019 16:53:54] \"GET /_dash-dependencies HTTP/1.1\" 200 -\n",
      "10.245.186.62 - - [18/Apr/2019 16:53:54] \"POST /_dash-update-component HTTP/1.1\" 200 -\n"
     ]
    }
   ],
   "source": [
    "external_stylesheets = ['styles.css']\n",
    "\n",
    "server = flask.Flask(__name__)\n",
    "\n",
    "app = dash.Dash(__name__, server=server, external_stylesheets=external_stylesheets)\n",
    "\n",
    "app.layout = html.Div([\n",
    "    html.H1('Twitter 1-grams'),\n",
    "    dcc.Input(id='my-id', value='@realdonaldtrump', type='text'),\n",
    "    dcc.Graph(id='my-graph',figure={'layout': {'yaxis': {'autorange': 'reversed', 'type':'log'}}}),\n",
    "])\n",
    "\n",
    "@app.callback(Output('my-graph', 'figure'), [Input('my-id', 'value')])\n",
    "def update_graph(input_value):\n",
    "    data=[]\n",
    "    layout={\n",
    "        'yaxis': {'autorange': 'reversed', 'type':'log'},\n",
    "    }\n",
    "    figure = {'data':data, 'layout':layout}\n",
    "    values = input_value.split(',')\n",
    "    for item in values:\n",
    "        df = load(item)\n",
    "        data.append({'x':df['time'], 'y':df['rank'],'name':item})\n",
    "    return figure\n",
    "\n",
    "\n",
    "if __name__ == '__main__':\n",
    "    app.run_server(port=8051, host='0.0.0.0')"
   ]
  },
  {
   "cell_type": "markdown",
   "metadata": {},
   "source": [
    "# Dropdown for query"
   ]
  },
  {
   "cell_type": "markdown",
   "metadata": {},
   "source": [
    "### Load wordlist"
   ]
  },
  {
   "cell_type": "code",
   "execution_count": 9,
   "metadata": {},
   "outputs": [],
   "source": [
    "import csv\n",
    "wordlist = []\n",
    "with open('wordlist_from-df.csv', 'rt') as f:\n",
    "    reader = csv.reader(f)\n",
    "    next(reader)\n",
    "    wordlist=list(reader)"
   ]
  },
  {
   "cell_type": "code",
   "execution_count": 10,
   "metadata": {},
   "outputs": [],
   "source": [
    "wordDF=pd.DataFrame(wordlist, columns=['word','rank'])"
   ]
  },
  {
   "cell_type": "code",
   "execution_count": 11,
   "metadata": {},
   "outputs": [],
   "source": [
    "wordDF=wordDF[wordDF['rank']!='Rank']"
   ]
  },
  {
   "cell_type": "code",
   "execution_count": 12,
   "metadata": {},
   "outputs": [],
   "source": [
    "wordDF=wordDF[wordDF['rank']!='minRank']"
   ]
  },
  {
   "cell_type": "code",
   "execution_count": 13,
   "metadata": {},
   "outputs": [],
   "source": [
    "wordDF['rank']=wordDF['rank'].astype(int);"
   ]
  },
  {
   "cell_type": "markdown",
   "metadata": {},
   "source": [
    "### Dropdown with under 5k"
   ]
  },
  {
   "cell_type": "code",
   "execution_count": 22,
   "metadata": {},
   "outputs": [
    {
     "data": {
      "text/plain": [
       "(1056, 2)"
      ]
     },
     "execution_count": 22,
     "metadata": {},
     "output_type": "execute_result"
    }
   ],
   "source": [
    "wordDF[wordDF['rank']<1000].shape"
   ]
  },
  {
   "cell_type": "code",
   "execution_count": 14,
   "metadata": {},
   "outputs": [],
   "source": [
    "options = []\n",
    "wordDF_filtered = wordDF[wordDF['rank']<1000]\n",
    "for word in wordDF_filtered['word']:\n",
    "    options.append({'label': word,'value': word})"
   ]
  },
  {
   "cell_type": "code",
   "execution_count": 16,
   "metadata": {},
   "outputs": [
    {
     "name": "stdout",
     "output_type": "stream",
     "text": [
      " * Serving Flask app \"__main__\" (lazy loading)\n",
      " * Environment: production\n",
      "   WARNING: Do not use the development server in a production environment.\n",
      "   Use a production WSGI server instead.\n",
      " * Debug mode: off\n"
     ]
    },
    {
     "name": "stderr",
     "output_type": "stream",
     "text": [
      " * Running on http://0.0.0.0:8051/ (Press CTRL+C to quit)\n"
     ]
    }
   ],
   "source": [
    "external_stylesheets = ['styles.css']\n",
    "\n",
    "server = flask.Flask(__name__)\n",
    "\n",
    "app = dash.Dash(__name__, server=server, external_stylesheets=external_stylesheets)\n",
    "\n",
    "app.layout = html.Div([\n",
    "    html.H1('Twitter 1-grams'),\n",
    "    html.P('This shows any one-grams that cracked the top 5k rank at any time (47,844 onegrams)'),\n",
    "    html.Div([\n",
    "        dcc.Dropdown(id='my-dropdown', options=options, value=['@realdonaldtrump','@bts_twt'], multi=True)]),\n",
    "    dcc.Graph(id='my-graph',figure={'layout': {'yaxis': {'autorange': 'reversed', 'type':'log'}}})\n",
    "])\n",
    "\n",
    "@app.callback(Output('my-graph', 'figure'), [Input('my-dropdown', 'value')])\n",
    "\n",
    "def update_graph(input_value):\n",
    "    data=[]\n",
    "    layout={\n",
    "        'yaxis': {'autorange': 'reversed', 'type':'log'},\n",
    "    }\n",
    "    figure = {'data':data, 'layout':layout}\n",
    "    for item in input_value:\n",
    "        df = load(item)\n",
    "        data.append({'x':df['time'], 'y':df['rank'],'name':item})\n",
    "    return figure\n",
    "\n",
    "\n",
    "if __name__ == '__main__':\n",
    "    app.run_server(port=8051, host='0.0.0.0')"
   ]
  },
  {
   "cell_type": "markdown",
   "metadata": {},
   "source": [
    "### Dropdown of 1k with ability to add options"
   ]
  },
  {
   "cell_type": "code",
   "execution_count": null,
   "metadata": {},
   "outputs": [],
   "source": [
    "options = []\n",
    "wordDF_filtered = wordDF[wordDF['rank']<1000]\n",
    "for word in wordDF_filtered['word']:\n",
    "    options.append({'label': word,'value': word})"
   ]
  },
  {
   "cell_type": "code",
   "execution_count": null,
   "metadata": {},
   "outputs": [],
   "source": [
    "external_stylesheets = ['styles.css']\n",
    "\n",
    "server = flask.Flask(__name__)\n",
    "\n",
    "app = dash.Dash(__name__, server=server, external_stylesheets=external_stylesheets)\n",
    "\n",
    "app.layout = html.Div([\n",
    "    html.H1('Twitter 1-grams'),\n",
    "    html.P('Select a one-gram that cracked the top 1k rank at any time (1,056 onegrams)'),\n",
    "    html.Div([dcc.Dropdown(id='my-dropdown', options=options, value=['@realdonaldtrump','@bts_twt'], multi=True)]),\n",
    "    html.P('Add one-grams to the list containing a custom string:'),\n",
    "    dcc.Input(id='useradd', value=''),\n",
    "    html.Button(id='submit', children='Submit'),\n",
    "    dcc.Graph(id='my-graph',figure={'layout': {'yaxis': {'autorange': 'reversed', 'type':'log'}}})\n",
    "])\n",
    "\n",
    "@app.callback(Output('my-dropdown', 'options'),[Input('submit', 'n_clicks')],[State('useradd', 'value')])\n",
    "def callback(n_clicks, item):\n",
    "    if len(item) < 5:\n",
    "        wordDF_filtered = wordDF[wordDF['rank']<1000]\n",
    "    else:\n",
    "        wordDF_filtered = wordDF[wordDF['word'].str.contains(item)]\n",
    "    for word in wordDF_filtered:\n",
    "        options.append({'label': word[0],'value': word[0]})\n",
    "    return options\n",
    "\n",
    "@app.callback(Output('my-graph', 'figure'), [Input('my-dropdown', 'value')])\n",
    "def update_graph(input_value):\n",
    "    data=[]\n",
    "    layout={\n",
    "        'yaxis': {'autorange': 'reversed', 'type':'log'},\n",
    "    }\n",
    "    figure = {'data':data, 'layout':layout}\n",
    "    for item in input_value:\n",
    "        df = load(item)\n",
    "        data.append({'x':df['time'], 'y':df['rank'],'name':item})\n",
    "    return figure\n",
    "\n",
    "\n",
    "if __name__ == '__main__':\n",
    "    app.run_server(port=8051, host='0.0.0.0',debug=True)"
   ]
  },
  {
   "cell_type": "markdown",
   "metadata": {},
   "source": [
    "### Dynamic Dropdown (abandoned)"
   ]
  },
  {
   "cell_type": "code",
   "execution_count": 21,
   "metadata": {},
   "outputs": [
    {
     "name": "stdout",
     "output_type": "stream",
     "text": [
      " * Serving Flask app \"__main__\" (lazy loading)\n",
      " * Environment: production\n",
      "   WARNING: Do not use the development server in a production environment.\n",
      "   Use a production WSGI server instead.\n",
      " * Debug mode: off\n"
     ]
    },
    {
     "name": "stderr",
     "output_type": "stream",
     "text": [
      " * Running on http://0.0.0.0:8051/ (Press CTRL+C to quit)\n",
      "10.245.186.62 - - [22/Apr/2019 16:20:23] \"GET / HTTP/1.1\" 200 -\n",
      "10.245.186.62 - - [22/Apr/2019 16:20:23] \"GET /styles.css HTTP/1.1\" 200 -\n",
      "10.245.186.62 - - [22/Apr/2019 16:20:24] \"GET /_dash-layout HTTP/1.1\" 200 -\n",
      "10.245.186.62 - - [22/Apr/2019 16:20:24] \"GET /_dash-dependencies HTTP/1.1\" 200 -\n",
      "10.245.186.62 - - [22/Apr/2019 16:21:35] \"POST /_dash-update-component HTTP/1.1\" 200 -\n",
      "10.245.186.62 - - [22/Apr/2019 16:21:45] \"POST /_dash-update-component HTTP/1.1\" 200 -\n",
      "10.245.186.62 - - [22/Apr/2019 16:22:18] \"POST /_dash-update-component HTTP/1.1\" 200 -\n",
      "10.245.186.62 - - [22/Apr/2019 16:22:20] \"POST /_dash-update-component HTTP/1.1\" 200 -\n"
     ]
    }
   ],
   "source": [
    "external_stylesheets = ['styles.css']\n",
    "\n",
    "server = flask.Flask(__name__)\n",
    "\n",
    "app = dash.Dash(__name__, server=server, external_stylesheets=external_stylesheets)\n",
    "\n",
    "app.layout = html.Div([\n",
    "    html.H1('Twitter 1-grams'),\n",
    "    html.P('Select a one-gram that cracked the top 5k rank at any time (47,844 onegrams)'),\n",
    "    html.Div([\n",
    "        dcc.Dropdown(id='my-dropdown', options=options, value=['@realdonaldtrump','@bts_twt'], multi=True)]),\n",
    "    dcc.Graph(id='my-graph',figure={'layout': {'yaxis': {'autorange': 'reversed', 'type':'log'}}})\n",
    "])\n",
    "\n",
    "@app.callback(Output('my-graph', 'figure'), [Input('my-dropdown', 'value')])\n",
    "\n",
    "def update_graph(input_value):\n",
    "    data=[]\n",
    "    layout={\n",
    "        'yaxis': {'autorange': 'reversed', 'type':'log'},\n",
    "    }\n",
    "    figure = {'data':data, 'layout':layout}\n",
    "    for item in input_value:\n",
    "        df = load(item)\n",
    "        data.append({'x':df['time'], 'y':df['rank'],'name':item})\n",
    "    return figure\n",
    "\n",
    "@app.callback(Output('my-dropdown', 'options'), [Input('my-dropdown', 'value')])\n",
    "\n",
    "def update_options(input_value):\n",
    "    for item in input_value:\n",
    "        if len(item) < 5:\n",
    "            wordDF_filtered = wordDF[wordDF['rank']<1000]\n",
    "        else:\n",
    "            wordDF_filtered = wordDF[wordDF['word'].str.contains(item)]\n",
    "        for word in wordDF_filtered:\n",
    "            options.append({'label': word[0],'value': word[0]})\n",
    "    return options\n",
    "\n",
    "\n",
    "if __name__ == '__main__':\n",
    "    app.run_server(port=8051, host='0.0.0.0',debug=True)"
   ]
  },
  {
   "cell_type": "code",
   "execution_count": null,
   "metadata": {},
   "outputs": [],
   "source": []
  }
 ],
 "metadata": {
  "kernelspec": {
   "display_name": "Python (TestEnv)",
   "language": "python",
   "name": "test_env"
  }
 },
 "nbformat": 4,
 "nbformat_minor": 2
}
