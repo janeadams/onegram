{
 "cells": [
  {
   "cell_type": "code",
   "execution_count": 1,
   "metadata": {},
   "outputs": [],
   "source": [
    "import pandas as pd\n",
    "import numpy as np\n",
    "import dash\n",
    "import flask\n",
    "from dash.dependencies import Input, Output\n",
    "import dash_core_components as dcc\n",
    "import dash_html_components as html\n",
    "from pandas_datareader import data as web\n",
    "from datetime import datetime as dt"
   ]
  },
  {
   "cell_type": "code",
   "execution_count": 2,
   "metadata": {},
   "outputs": [],
   "source": [
    "import pymongo"
   ]
  },
  {
   "cell_type": "code",
   "execution_count": 3,
   "metadata": {},
   "outputs": [],
   "source": [
    "from dotenv import load_dotenv\n",
    "load_dotenv()\n",
    "import os\n",
    "password = os.getenv(\"PASSWORD\")\n",
    "username = os.getenv(\"USERNAME\")\n",
    "location = os.getenv(\"LOCATION\")\n",
    "collection = os.getenv(\"COLLECTION\")"
   ]
  },
  {
   "cell_type": "code",
   "execution_count": 4,
   "metadata": {},
   "outputs": [
    {
     "data": {
      "text/plain": [
       "'27017/1grams'"
      ]
     },
     "execution_count": 4,
     "metadata": {},
     "output_type": "execute_result"
    }
   ],
   "source": [
    "location"
   ]
  },
  {
   "cell_type": "code",
   "execution_count": null,
   "metadata": {},
   "outputs": [],
   "source": [
    "location='27017/1-grams'"
   ]
  },
  {
   "cell_type": "code",
   "execution_count": 5,
   "metadata": {
    "scrolled": true
   },
   "outputs": [
    {
     "data": {
      "text/plain": [
       "'en'"
      ]
     },
     "execution_count": 5,
     "metadata": {},
     "output_type": "execute_result"
    }
   ],
   "source": [
    "collection"
   ]
  },
  {
   "cell_type": "code",
   "execution_count": null,
   "metadata": {},
   "outputs": [],
   "source": [
    "collection='tweets'"
   ]
  },
  {
   "cell_type": "code",
   "execution_count": 6,
   "metadata": {},
   "outputs": [],
   "source": [
    "client = pymongo.MongoClient('mongodb://%s:%s@127.0.0.1' % (username, password))\n",
    "db = client[location[6:]]"
   ]
  },
  {
   "cell_type": "code",
   "execution_count": 7,
   "metadata": {},
   "outputs": [],
   "source": [
    "def load(word):\n",
    "    try:\n",
    "        df = pd.DataFrame(list(db[collection].find({ \"word\": word})))\n",
    "        df = df.sort_values(by=['time'])\n",
    "        df['year'] = [date.year for date in df['time']]\n",
    "        df['day'] = [date.timetuple().tm_yday for date in df['time']]\n",
    "        return df\n",
    "    except:\n",
    "        print(str(\"No timeseries found for \"+word))\n",
    "        df = pd.DataFrame()\n",
    "        return df"
   ]
  },
  {
   "cell_type": "code",
   "execution_count": 8,
   "metadata": {},
   "outputs": [
    {
     "name": "stdout",
     "output_type": "stream",
     "text": [
      "No timeseries found for @realdonaldtrump\n"
     ]
    },
    {
     "data": {
      "text/html": [
       "<div>\n",
       "<style scoped>\n",
       "    .dataframe tbody tr th:only-of-type {\n",
       "        vertical-align: middle;\n",
       "    }\n",
       "\n",
       "    .dataframe tbody tr th {\n",
       "        vertical-align: top;\n",
       "    }\n",
       "\n",
       "    .dataframe thead th {\n",
       "        text-align: right;\n",
       "    }\n",
       "</style>\n",
       "<table border=\"1\" class=\"dataframe\">\n",
       "  <thead>\n",
       "    <tr style=\"text-align: right;\">\n",
       "      <th></th>\n",
       "    </tr>\n",
       "  </thead>\n",
       "  <tbody>\n",
       "  </tbody>\n",
       "</table>\n",
       "</div>"
      ],
      "text/plain": [
       "Empty DataFrame\n",
       "Columns: []\n",
       "Index: []"
      ]
     },
     "execution_count": 8,
     "metadata": {},
     "output_type": "execute_result"
    }
   ],
   "source": [
    "q = load('@realdonaldtrump')\n",
    "q"
   ]
  },
  {
   "cell_type": "markdown",
   "metadata": {},
   "source": [
    "# Input box for query"
   ]
  },
  {
   "cell_type": "code",
   "execution_count": null,
   "metadata": {},
   "outputs": [
    {
     "name": "stdout",
     "output_type": "stream",
     "text": [
      " * Serving Flask app \"__main__\" (lazy loading)\n",
      " * Environment: production\n",
      "   WARNING: Do not use the development server in a production environment.\n",
      "   Use a production WSGI server instead.\n",
      " * Debug mode: off\n"
     ]
    },
    {
     "name": "stderr",
     "output_type": "stream",
     "text": [
      " * Running on http://0.0.0.0:8051/ (Press CTRL+C to quit)\n",
      "10.245.201.161 - - [02/Aug/2019 14:23:41] \"GET / HTTP/1.1\" 200 -\n",
      "10.245.201.161 - - [02/Aug/2019 14:23:41] \"GET /styles.css HTTP/1.1\" 200 -\n",
      "10.245.201.161 - - [02/Aug/2019 14:23:43] \"GET /_dash-layout HTTP/1.1\" 200 -\n",
      "10.245.201.161 - - [02/Aug/2019 14:23:43] \"GET /_dash-dependencies HTTP/1.1\" 200 -\n",
      "[2019-08-02 14:23:43,306] ERROR in app: Exception on /_dash-update-component [POST]\n",
      "Traceback (most recent call last):\n",
      "  File \"/home/janeadams/.conda/envs/test_env/lib/python3.7/site-packages/flask/app.py\", line 2292, in wsgi_app\n",
      "    response = self.full_dispatch_request()\n",
      "  File \"/home/janeadams/.conda/envs/test_env/lib/python3.7/site-packages/flask/app.py\", line 1815, in full_dispatch_request\n",
      "    rv = self.handle_user_exception(e)\n",
      "  File \"/home/janeadams/.conda/envs/test_env/lib/python3.7/site-packages/flask/app.py\", line 1718, in handle_user_exception\n",
      "    reraise(exc_type, exc_value, tb)\n",
      "  File \"/home/janeadams/.conda/envs/test_env/lib/python3.7/site-packages/flask/_compat.py\", line 35, in reraise\n",
      "    raise value\n",
      "  File \"/home/janeadams/.conda/envs/test_env/lib/python3.7/site-packages/flask/app.py\", line 1813, in full_dispatch_request\n",
      "    rv = self.dispatch_request()\n",
      "  File \"/home/janeadams/.conda/envs/test_env/lib/python3.7/site-packages/flask/app.py\", line 1799, in dispatch_request\n",
      "    return self.view_functions[rule.endpoint](**req.view_args)\n",
      "  File \"/home/janeadams/.conda/envs/test_env/lib/python3.7/site-packages/dash/dash.py\", line 1152, in dispatch\n",
      "    response.set_data(self.callback_map[output]['callback'](*args))\n",
      "  File \"/home/janeadams/.conda/envs/test_env/lib/python3.7/site-packages/dash/dash.py\", line 1038, in add_context\n",
      "    output_value = func(*args, **kwargs)\n",
      "  File \"<ipython-input-9-76821a86f009>\", line 21, in update_graph\n",
      "    input_value = input_value.replace({\"   \":\",\",\"  \":\",\",\" \":\",\",\",,\":\",\",\",,,\":\",\"})\n",
      "TypeError: replace() takes at least 2 arguments (1 given)\n",
      "10.245.201.161 - - [02/Aug/2019 14:23:43] \"POST /_dash-update-component HTTP/1.1\" 500 -\n",
      "10.245.201.161 - - [02/Aug/2019 14:23:43] \"GET /_favicon.ico HTTP/1.1\" 200 -\n",
      "[2019-08-02 14:23:46,401] ERROR in app: Exception on /_dash-update-component [POST]\n",
      "Traceback (most recent call last):\n",
      "  File \"/home/janeadams/.conda/envs/test_env/lib/python3.7/site-packages/flask/app.py\", line 2292, in wsgi_app\n",
      "    response = self.full_dispatch_request()\n",
      "  File \"/home/janeadams/.conda/envs/test_env/lib/python3.7/site-packages/flask/app.py\", line 1815, in full_dispatch_request\n",
      "    rv = self.handle_user_exception(e)\n",
      "  File \"/home/janeadams/.conda/envs/test_env/lib/python3.7/site-packages/flask/app.py\", line 1718, in handle_user_exception\n",
      "    reraise(exc_type, exc_value, tb)\n",
      "  File \"/home/janeadams/.conda/envs/test_env/lib/python3.7/site-packages/flask/_compat.py\", line 35, in reraise\n",
      "    raise value\n",
      "  File \"/home/janeadams/.conda/envs/test_env/lib/python3.7/site-packages/flask/app.py\", line 1813, in full_dispatch_request\n",
      "    rv = self.dispatch_request()\n",
      "  File \"/home/janeadams/.conda/envs/test_env/lib/python3.7/site-packages/flask/app.py\", line 1799, in dispatch_request\n",
      "    return self.view_functions[rule.endpoint](**req.view_args)\n",
      "  File \"/home/janeadams/.conda/envs/test_env/lib/python3.7/site-packages/dash/dash.py\", line 1152, in dispatch\n",
      "    response.set_data(self.callback_map[output]['callback'](*args))\n",
      "  File \"/home/janeadams/.conda/envs/test_env/lib/python3.7/site-packages/dash/dash.py\", line 1038, in add_context\n",
      "    output_value = func(*args, **kwargs)\n",
      "  File \"<ipython-input-9-76821a86f009>\", line 21, in update_graph\n",
      "    input_value = input_value.replace({\"   \":\",\",\"  \":\",\",\" \":\",\",\",,\":\",\",\",,,\":\",\"})\n",
      "TypeError: replace() takes at least 2 arguments (1 given)\n",
      "10.245.201.161 - - [02/Aug/2019 14:23:46] \"POST /_dash-update-component HTTP/1.1\" 500 -\n",
      "[2019-08-02 14:23:46,543] ERROR in app: Exception on /_dash-update-component [POST]\n",
      "Traceback (most recent call last):\n",
      "  File \"/home/janeadams/.conda/envs/test_env/lib/python3.7/site-packages/flask/app.py\", line 2292, in wsgi_app\n",
      "    response = self.full_dispatch_request()\n",
      "  File \"/home/janeadams/.conda/envs/test_env/lib/python3.7/site-packages/flask/app.py\", line 1815, in full_dispatch_request\n",
      "    rv = self.handle_user_exception(e)\n",
      "  File \"/home/janeadams/.conda/envs/test_env/lib/python3.7/site-packages/flask/app.py\", line 1718, in handle_user_exception\n",
      "    reraise(exc_type, exc_value, tb)\n",
      "  File \"/home/janeadams/.conda/envs/test_env/lib/python3.7/site-packages/flask/_compat.py\", line 35, in reraise\n",
      "    raise value\n",
      "  File \"/home/janeadams/.conda/envs/test_env/lib/python3.7/site-packages/flask/app.py\", line 1813, in full_dispatch_request\n",
      "    rv = self.dispatch_request()\n",
      "  File \"/home/janeadams/.conda/envs/test_env/lib/python3.7/site-packages/flask/app.py\", line 1799, in dispatch_request\n",
      "    return self.view_functions[rule.endpoint](**req.view_args)\n",
      "  File \"/home/janeadams/.conda/envs/test_env/lib/python3.7/site-packages/dash/dash.py\", line 1152, in dispatch\n",
      "    response.set_data(self.callback_map[output]['callback'](*args))\n",
      "  File \"/home/janeadams/.conda/envs/test_env/lib/python3.7/site-packages/dash/dash.py\", line 1038, in add_context\n",
      "    output_value = func(*args, **kwargs)\n",
      "  File \"<ipython-input-9-76821a86f009>\", line 21, in update_graph\n",
      "    input_value = input_value.replace({\"   \":\",\",\"  \":\",\",\" \":\",\",\",,\":\",\",\",,,\":\",\"})\n",
      "TypeError: replace() takes at least 2 arguments (1 given)\n",
      "10.245.201.161 - - [02/Aug/2019 14:23:46] \"POST /_dash-update-component HTTP/1.1\" 500 -\n",
      "[2019-08-02 14:23:46,622] ERROR in app: Exception on /_dash-update-component [POST]\n",
      "Traceback (most recent call last):\n",
      "  File \"/home/janeadams/.conda/envs/test_env/lib/python3.7/site-packages/flask/app.py\", line 2292, in wsgi_app\n",
      "    response = self.full_dispatch_request()\n",
      "  File \"/home/janeadams/.conda/envs/test_env/lib/python3.7/site-packages/flask/app.py\", line 1815, in full_dispatch_request\n",
      "    rv = self.handle_user_exception(e)\n",
      "  File \"/home/janeadams/.conda/envs/test_env/lib/python3.7/site-packages/flask/app.py\", line 1718, in handle_user_exception\n",
      "    reraise(exc_type, exc_value, tb)\n",
      "  File \"/home/janeadams/.conda/envs/test_env/lib/python3.7/site-packages/flask/_compat.py\", line 35, in reraise\n",
      "    raise value\n",
      "  File \"/home/janeadams/.conda/envs/test_env/lib/python3.7/site-packages/flask/app.py\", line 1813, in full_dispatch_request\n",
      "    rv = self.dispatch_request()\n",
      "  File \"/home/janeadams/.conda/envs/test_env/lib/python3.7/site-packages/flask/app.py\", line 1799, in dispatch_request\n",
      "    return self.view_functions[rule.endpoint](**req.view_args)\n",
      "  File \"/home/janeadams/.conda/envs/test_env/lib/python3.7/site-packages/dash/dash.py\", line 1152, in dispatch\n",
      "    response.set_data(self.callback_map[output]['callback'](*args))\n",
      "  File \"/home/janeadams/.conda/envs/test_env/lib/python3.7/site-packages/dash/dash.py\", line 1038, in add_context\n",
      "    output_value = func(*args, **kwargs)\n",
      "  File \"<ipython-input-9-76821a86f009>\", line 21, in update_graph\n",
      "    input_value = input_value.replace({\"   \":\",\",\"  \":\",\",\" \":\",\",\",,\":\",\",\",,,\":\",\"})\n",
      "TypeError: replace() takes at least 2 arguments (1 given)\n",
      "10.245.201.161 - - [02/Aug/2019 14:23:46] \"POST /_dash-update-component HTTP/1.1\" 500 -\n",
      "[2019-08-02 14:23:46,783] ERROR in app: Exception on /_dash-update-component [POST]\n",
      "Traceback (most recent call last):\n",
      "  File \"/home/janeadams/.conda/envs/test_env/lib/python3.7/site-packages/flask/app.py\", line 2292, in wsgi_app\n",
      "    response = self.full_dispatch_request()\n",
      "  File \"/home/janeadams/.conda/envs/test_env/lib/python3.7/site-packages/flask/app.py\", line 1815, in full_dispatch_request\n",
      "    rv = self.handle_user_exception(e)\n",
      "  File \"/home/janeadams/.conda/envs/test_env/lib/python3.7/site-packages/flask/app.py\", line 1718, in handle_user_exception\n",
      "    reraise(exc_type, exc_value, tb)\n",
      "  File \"/home/janeadams/.conda/envs/test_env/lib/python3.7/site-packages/flask/_compat.py\", line 35, in reraise\n",
      "    raise value\n",
      "  File \"/home/janeadams/.conda/envs/test_env/lib/python3.7/site-packages/flask/app.py\", line 1813, in full_dispatch_request\n",
      "    rv = self.dispatch_request()\n",
      "  File \"/home/janeadams/.conda/envs/test_env/lib/python3.7/site-packages/flask/app.py\", line 1799, in dispatch_request\n",
      "    return self.view_functions[rule.endpoint](**req.view_args)\n",
      "  File \"/home/janeadams/.conda/envs/test_env/lib/python3.7/site-packages/dash/dash.py\", line 1152, in dispatch\n",
      "    response.set_data(self.callback_map[output]['callback'](*args))\n",
      "  File \"/home/janeadams/.conda/envs/test_env/lib/python3.7/site-packages/dash/dash.py\", line 1038, in add_context\n",
      "    output_value = func(*args, **kwargs)\n",
      "  File \"<ipython-input-9-76821a86f009>\", line 21, in update_graph\n",
      "    input_value = input_value.replace({\"   \":\",\",\"  \":\",\",\" \":\",\",\",,\":\",\",\",,,\":\",\"})\n",
      "TypeError: replace() takes at least 2 arguments (1 given)\n"
     ]
    },
    {
     "name": "stderr",
     "output_type": "stream",
     "text": [
      "10.245.201.161 - - [02/Aug/2019 14:23:46] \"POST /_dash-update-component HTTP/1.1\" 500 -\n",
      "[2019-08-02 14:23:46,933] ERROR in app: Exception on /_dash-update-component [POST]\n",
      "Traceback (most recent call last):\n",
      "  File \"/home/janeadams/.conda/envs/test_env/lib/python3.7/site-packages/flask/app.py\", line 2292, in wsgi_app\n",
      "    response = self.full_dispatch_request()\n",
      "  File \"/home/janeadams/.conda/envs/test_env/lib/python3.7/site-packages/flask/app.py\", line 1815, in full_dispatch_request\n",
      "    rv = self.handle_user_exception(e)\n",
      "  File \"/home/janeadams/.conda/envs/test_env/lib/python3.7/site-packages/flask/app.py\", line 1718, in handle_user_exception\n",
      "    reraise(exc_type, exc_value, tb)\n",
      "  File \"/home/janeadams/.conda/envs/test_env/lib/python3.7/site-packages/flask/_compat.py\", line 35, in reraise\n",
      "    raise value\n",
      "  File \"/home/janeadams/.conda/envs/test_env/lib/python3.7/site-packages/flask/app.py\", line 1813, in full_dispatch_request\n",
      "    rv = self.dispatch_request()\n",
      "  File \"/home/janeadams/.conda/envs/test_env/lib/python3.7/site-packages/flask/app.py\", line 1799, in dispatch_request\n",
      "    return self.view_functions[rule.endpoint](**req.view_args)\n",
      "  File \"/home/janeadams/.conda/envs/test_env/lib/python3.7/site-packages/dash/dash.py\", line 1152, in dispatch\n",
      "    response.set_data(self.callback_map[output]['callback'](*args))\n",
      "  File \"/home/janeadams/.conda/envs/test_env/lib/python3.7/site-packages/dash/dash.py\", line 1038, in add_context\n",
      "    output_value = func(*args, **kwargs)\n",
      "  File \"<ipython-input-9-76821a86f009>\", line 21, in update_graph\n",
      "    input_value = input_value.replace({\"   \":\",\",\"  \":\",\",\" \":\",\",\",,\":\",\",\",,,\":\",\"})\n",
      "TypeError: replace() takes at least 2 arguments (1 given)\n",
      "10.245.201.161 - - [02/Aug/2019 14:23:46] \"POST /_dash-update-component HTTP/1.1\" 500 -\n",
      "[2019-08-02 14:23:47,031] ERROR in app: Exception on /_dash-update-component [POST]\n",
      "Traceback (most recent call last):\n",
      "  File \"/home/janeadams/.conda/envs/test_env/lib/python3.7/site-packages/flask/app.py\", line 2292, in wsgi_app\n",
      "    response = self.full_dispatch_request()\n",
      "  File \"/home/janeadams/.conda/envs/test_env/lib/python3.7/site-packages/flask/app.py\", line 1815, in full_dispatch_request\n",
      "    rv = self.handle_user_exception(e)\n",
      "  File \"/home/janeadams/.conda/envs/test_env/lib/python3.7/site-packages/flask/app.py\", line 1718, in handle_user_exception\n",
      "    reraise(exc_type, exc_value, tb)\n",
      "  File \"/home/janeadams/.conda/envs/test_env/lib/python3.7/site-packages/flask/_compat.py\", line 35, in reraise\n",
      "    raise value\n",
      "  File \"/home/janeadams/.conda/envs/test_env/lib/python3.7/site-packages/flask/app.py\", line 1813, in full_dispatch_request\n",
      "    rv = self.dispatch_request()\n",
      "  File \"/home/janeadams/.conda/envs/test_env/lib/python3.7/site-packages/flask/app.py\", line 1799, in dispatch_request\n",
      "    return self.view_functions[rule.endpoint](**req.view_args)\n",
      "  File \"/home/janeadams/.conda/envs/test_env/lib/python3.7/site-packages/dash/dash.py\", line 1152, in dispatch\n",
      "    response.set_data(self.callback_map[output]['callback'](*args))\n",
      "  File \"/home/janeadams/.conda/envs/test_env/lib/python3.7/site-packages/dash/dash.py\", line 1038, in add_context\n",
      "    output_value = func(*args, **kwargs)\n",
      "  File \"<ipython-input-9-76821a86f009>\", line 21, in update_graph\n",
      "    input_value = input_value.replace({\"   \":\",\",\"  \":\",\",\" \":\",\",\",,\":\",\",\",,,\":\",\"})\n",
      "TypeError: replace() takes at least 2 arguments (1 given)\n",
      "10.245.201.161 - - [02/Aug/2019 14:23:47] \"POST /_dash-update-component HTTP/1.1\" 500 -\n",
      "[2019-08-02 14:23:47,110] ERROR in app: Exception on /_dash-update-component [POST]\n",
      "Traceback (most recent call last):\n",
      "  File \"/home/janeadams/.conda/envs/test_env/lib/python3.7/site-packages/flask/app.py\", line 2292, in wsgi_app\n",
      "    response = self.full_dispatch_request()\n",
      "  File \"/home/janeadams/.conda/envs/test_env/lib/python3.7/site-packages/flask/app.py\", line 1815, in full_dispatch_request\n",
      "    rv = self.handle_user_exception(e)\n",
      "  File \"/home/janeadams/.conda/envs/test_env/lib/python3.7/site-packages/flask/app.py\", line 1718, in handle_user_exception\n",
      "    reraise(exc_type, exc_value, tb)\n",
      "  File \"/home/janeadams/.conda/envs/test_env/lib/python3.7/site-packages/flask/_compat.py\", line 35, in reraise\n",
      "    raise value\n",
      "  File \"/home/janeadams/.conda/envs/test_env/lib/python3.7/site-packages/flask/app.py\", line 1813, in full_dispatch_request\n",
      "    rv = self.dispatch_request()\n",
      "  File \"/home/janeadams/.conda/envs/test_env/lib/python3.7/site-packages/flask/app.py\", line 1799, in dispatch_request\n",
      "    return self.view_functions[rule.endpoint](**req.view_args)\n",
      "  File \"/home/janeadams/.conda/envs/test_env/lib/python3.7/site-packages/dash/dash.py\", line 1152, in dispatch\n",
      "    response.set_data(self.callback_map[output]['callback'](*args))\n",
      "  File \"/home/janeadams/.conda/envs/test_env/lib/python3.7/site-packages/dash/dash.py\", line 1038, in add_context\n",
      "    output_value = func(*args, **kwargs)\n",
      "  File \"<ipython-input-9-76821a86f009>\", line 21, in update_graph\n",
      "    input_value = input_value.replace({\"   \":\",\",\"  \":\",\",\" \":\",\",\",,\":\",\",\",,,\":\",\"})\n",
      "TypeError: replace() takes at least 2 arguments (1 given)\n",
      "10.245.201.161 - - [02/Aug/2019 14:23:47] \"POST /_dash-update-component HTTP/1.1\" 500 -\n",
      "[2019-08-02 14:23:47,172] ERROR in app: Exception on /_dash-update-component [POST]\n",
      "Traceback (most recent call last):\n",
      "  File \"/home/janeadams/.conda/envs/test_env/lib/python3.7/site-packages/flask/app.py\", line 2292, in wsgi_app\n",
      "    response = self.full_dispatch_request()\n",
      "  File \"/home/janeadams/.conda/envs/test_env/lib/python3.7/site-packages/flask/app.py\", line 1815, in full_dispatch_request\n",
      "    rv = self.handle_user_exception(e)\n",
      "  File \"/home/janeadams/.conda/envs/test_env/lib/python3.7/site-packages/flask/app.py\", line 1718, in handle_user_exception\n",
      "    reraise(exc_type, exc_value, tb)\n",
      "  File \"/home/janeadams/.conda/envs/test_env/lib/python3.7/site-packages/flask/_compat.py\", line 35, in reraise\n",
      "    raise value\n",
      "  File \"/home/janeadams/.conda/envs/test_env/lib/python3.7/site-packages/flask/app.py\", line 1813, in full_dispatch_request\n",
      "    rv = self.dispatch_request()\n",
      "  File \"/home/janeadams/.conda/envs/test_env/lib/python3.7/site-packages/flask/app.py\", line 1799, in dispatch_request\n",
      "    return self.view_functions[rule.endpoint](**req.view_args)\n",
      "  File \"/home/janeadams/.conda/envs/test_env/lib/python3.7/site-packages/dash/dash.py\", line 1152, in dispatch\n",
      "    response.set_data(self.callback_map[output]['callback'](*args))\n",
      "  File \"/home/janeadams/.conda/envs/test_env/lib/python3.7/site-packages/dash/dash.py\", line 1038, in add_context\n",
      "    output_value = func(*args, **kwargs)\n",
      "  File \"<ipython-input-9-76821a86f009>\", line 21, in update_graph\n",
      "    input_value = input_value.replace({\"   \":\",\",\"  \":\",\",\" \":\",\",\",,\":\",\",\",,,\":\",\"})\n",
      "TypeError: replace() takes at least 2 arguments (1 given)\n",
      "10.245.201.161 - - [02/Aug/2019 14:23:47] \"POST /_dash-update-component HTTP/1.1\" 500 -\n"
     ]
    }
   ],
   "source": [
    "external_stylesheets = ['styles.css']\n",
    "\n",
    "server = flask.Flask(__name__)\n",
    "\n",
    "app = dash.Dash(__name__, server=server, external_stylesheets=external_stylesheets)\n",
    "\n",
    "data=[]\n",
    "\n",
    "app.layout = html.Div([\n",
    "    html.H1('Twitter 1-grams'),\n",
    "    dcc.Input(id='my-id', value='@realdonaldtrump', type='text'),\n",
    "    dcc.Graph(id='my-graph',figure={'layout': {'yaxis': {'autorange': 'reversed', 'type':'log'}}}),\n",
    "])\n",
    "\n",
    "@app.callback(Output('my-graph', 'figure'), [Input('my-id', 'value')])\n",
    "def update_graph(input_value):\n",
    "    layout={\n",
    "        'yaxis': {'autorange': 'reversed', 'type':'log'},\n",
    "    }\n",
    "    figure = {'data':data, 'layout':layout}\n",
    "    input_value = input_value.replace({\"   \":\",\",\"  \":\",\",\" \":\",\",\",,\":\",\",\",,,\":\",\"})\n",
    "    values = input_value.split(',')\n",
    "    for item in values:\n",
    "        item = lower(item)\n",
    "        df = load(item)\n",
    "        data.append({'x':df['time'], 'y':df['rank'],'name':item})\n",
    "    return figure\n",
    "\n",
    "if __name__ == '__main__':\n",
    "    app.run_server(port=8051, host='0.0.0.0')"
   ]
  },
  {
   "cell_type": "markdown",
   "metadata": {},
   "source": [
    "# Dropdown for query"
   ]
  },
  {
   "cell_type": "markdown",
   "metadata": {},
   "source": [
    "### Load wordlist"
   ]
  },
  {
   "cell_type": "code",
   "execution_count": null,
   "metadata": {},
   "outputs": [],
   "source": [
    "import csv\n",
    "wordlist = []\n",
    "with open('wordlist_from-df.csv', 'rt') as f:\n",
    "    reader = csv.reader(f)\n",
    "    next(reader)\n",
    "    wordlist=list(reader)"
   ]
  },
  {
   "cell_type": "code",
   "execution_count": null,
   "metadata": {},
   "outputs": [],
   "source": [
    "wordDF=pd.DataFrame(wordlist, columns=['word','rank'])"
   ]
  },
  {
   "cell_type": "code",
   "execution_count": null,
   "metadata": {},
   "outputs": [],
   "source": [
    "wordDF=wordDF[wordDF['rank']!='Rank']"
   ]
  },
  {
   "cell_type": "code",
   "execution_count": null,
   "metadata": {},
   "outputs": [],
   "source": [
    "wordDF=wordDF[wordDF['rank']!='minRank']"
   ]
  },
  {
   "cell_type": "code",
   "execution_count": null,
   "metadata": {},
   "outputs": [],
   "source": [
    "wordDF['rank']=wordDF['rank'].astype(int);"
   ]
  },
  {
   "cell_type": "markdown",
   "metadata": {},
   "source": [
    "### Dropdown with under 5k"
   ]
  },
  {
   "cell_type": "code",
   "execution_count": null,
   "metadata": {},
   "outputs": [],
   "source": [
    "wordDF[wordDF['rank']<5000].shape"
   ]
  },
  {
   "cell_type": "code",
   "execution_count": null,
   "metadata": {},
   "outputs": [],
   "source": [
    "options = []\n",
    "wordDF_filtered = wordDF[wordDF['rank']<5000]\n",
    "for word in wordDF_filtered['word']:\n",
    "    options.append({'label': word,'value': word})"
   ]
  },
  {
   "cell_type": "code",
   "execution_count": null,
   "metadata": {},
   "outputs": [],
   "source": [
    "options[:5]"
   ]
  },
  {
   "cell_type": "code",
   "execution_count": null,
   "metadata": {},
   "outputs": [],
   "source": [
    "options[100:105]"
   ]
  },
  {
   "cell_type": "code",
   "execution_count": null,
   "metadata": {},
   "outputs": [],
   "source": [
    "external_stylesheets = ['styles.css']\n",
    "\n",
    "server = flask.Flask(__name__)\n",
    "\n",
    "app = dash.Dash(__name__, server=server, external_stylesheets=external_stylesheets)\n",
    "\n",
    "app.layout = html.Div([\n",
    "    html.H1('Twitter 1-grams'),\n",
    "    html.P('This shows any one-grams that cracked the top 5k rank at any time (47,844 onegrams)'),\n",
    "    html.Div([\n",
    "        dcc.Dropdown(id='my-dropdown', options=options, value=['@realdonaldtrump','@bts_twt'], multi=True)]),\n",
    "    dcc.Graph(id='my-graph',figure={'layout': {'yaxis': {'autorange': 'reversed', 'type':'log'}}})\n",
    "])\n",
    "\n",
    "@app.callback(Output('my-graph', 'figure'), [Input('my-dropdown', 'value')])\n",
    "\n",
    "def update_graph(input_value):\n",
    "    data=[]\n",
    "    layout={\n",
    "        'yaxis': {'autorange': 'reversed', 'type':'log'},\n",
    "    }\n",
    "    figure = {'data':data, 'layout':layout}\n",
    "    input_value = input_value.replace({\"   \":\",\",\"  \":\",\",\" \":\",\",\",,\":\",\",\",,,\":\",\"})\n",
    "    for item in input_value:\n",
    "        item = lower(item)\n",
    "        df = load(item)\n",
    "        data.append({'x':df['time'], 'y':df['rank'],'name':item})\n",
    "    return figure\n",
    "\n",
    "\n",
    "if __name__ == '__main__':\n",
    "    app.run_server(port=8051, host='0.0.0.0')"
   ]
  },
  {
   "cell_type": "markdown",
   "metadata": {},
   "source": [
    "### Dropdown of under 1k list, with ability to add options"
   ]
  },
  {
   "cell_type": "code",
   "execution_count": null,
   "metadata": {},
   "outputs": [],
   "source": [
    "options = []\n",
    "wordDF_filtered = wordDF[wordDF['rank']<1000]\n",
    "wordDF_filtered=wordDF_filtered.sort_values(by='rank')\n",
    "for word in wordDF_filtered['word']:\n",
    "    options.append(word)"
   ]
  },
  {
   "cell_type": "code",
   "execution_count": null,
   "metadata": {},
   "outputs": [],
   "source": [
    "external_stylesheets = ['styles.css']\n",
    "\n",
    "server = flask.Flask(__name__)\n",
    "\n",
    "app = dash.Dash(__name__, server=server, external_stylesheets=external_stylesheets)\n",
    "\n",
    "app.layout = html.Div([\n",
    "    html.H1('Twitter 1-grams'),\n",
    "    html.P('Select a one-gram that cracked the top 1k rank at any time (1,056 onegrams)'),\n",
    "    html.Datalist(id=\"wordlist\", children=[]),\n",
    "    dcc.Input(\n",
    "        id='input-field',\n",
    "        name='symbol',\n",
    "        list='wordlist',\n",
    "        placeholder='Enter a value...',\n",
    "        type='text',\n",
    "        value='trump'\n",
    "    ),\n",
    "    dcc.Graph(id='my-graph',figure={'layout': {'yaxis': {'autorange': 'reversed', 'type':'log'}}})\n",
    "])\n",
    "\n",
    "@app.callback(Output('wordlist', 'children'),[Input('input-field', 'value')])\n",
    "def callback(item):\n",
    "    if len(item) < 5:\n",
    "        wordDF_filtered = wordDF[wordDF['rank']<1000]\n",
    "    else:\n",
    "        wordDF_filtered = wordDF[wordDF['word'].str.contains(item)]\n",
    "    for word in wordDF_filtered:\n",
    "        options.append(word)\n",
    "    return options\n",
    "\n",
    "@app.callback(Output('my-graph', 'figure'), [Input('input-field', 'value')])\n",
    "def update_graph(input_value):\n",
    "    data=[]\n",
    "    layout={\n",
    "        'yaxis': {'autorange': 'reversed', 'type':'log'},\n",
    "    }\n",
    "    figure = {'data':data, 'layout':layout}\n",
    "    input_value = input_value.replace({\"   \":\",\",\"  \":\",\",\" \":\",\",\",,\":\",\",\",,,\":\",\"})\n",
    "    values = input_value.split(',')\n",
    "    for item in values:\n",
    "        item = lower(item)\n",
    "        df = load(item)\n",
    "        data.append({'x':df['time'], 'y':df['rank'],'name':item})\n",
    "    return figure\n",
    "\n",
    "\n",
    "if __name__ == '__main__':\n",
    "    app.run_server(port=8051, host='0.0.0.0')"
   ]
  },
  {
   "cell_type": "markdown",
   "metadata": {},
   "source": [
    "### Dynamic Dropdown (abandoned)"
   ]
  },
  {
   "cell_type": "code",
   "execution_count": null,
   "metadata": {},
   "outputs": [],
   "source": [
    "external_stylesheets = ['styles.css']\n",
    "\n",
    "server = flask.Flask(__name__)\n",
    "\n",
    "app = dash.Dash(__name__, server=server, external_stylesheets=external_stylesheets)\n",
    "\n",
    "app.layout = html.Div([\n",
    "    html.H1('Twitter 1-grams'),\n",
    "    html.P('Select a one-gram that cracked the top 5k rank at any time (47,844 onegrams)'),\n",
    "    html.Div([\n",
    "        dcc.Dropdown(id='my-dropdown', options=options, value=['@realdonaldtrump','@bts_twt'], multi=True)]),\n",
    "    dcc.Graph(id='my-graph',figure={'layout': {'yaxis': {'autorange': 'reversed', 'type':'log'}}})\n",
    "])\n",
    "\n",
    "@app.callback(Output('my-graph', 'figure'), [Input('my-dropdown', 'value')])\n",
    "\n",
    "def update_graph(input_value):\n",
    "    data=[]\n",
    "    layout={\n",
    "        'yaxis': {'autorange': 'reversed', 'type':'log'},\n",
    "    }\n",
    "    figure = {'data':data, 'layout':layout}\n",
    "    for item in input_value:\n",
    "        item = lower(item)\n",
    "        df = load(item)\n",
    "        data.append({'x':df['time'], 'y':df['rank'],'name':item})\n",
    "    return figure\n",
    "\n",
    "@app.callback(Output('my-dropdown', 'options'), [Input('my-dropdown', 'value')])\n",
    "\n",
    "def update_options(input_value):\n",
    "    for item in input_value:\n",
    "        if len(item) < 5:\n",
    "            wordDF_filtered = wordDF[wordDF['rank']<1000]\n",
    "        else:\n",
    "            wordDF_filtered = wordDF[wordDF['word'].str.contains(item)]\n",
    "        for word in wordDF_filtered:\n",
    "            options.append({'label': word[0],'value': word[0]})\n",
    "    return options\n",
    "\n",
    "\n",
    "if __name__ == '__main__':\n",
    "    app.run_server(port=8051, host='0.0.0.0')"
   ]
  },
  {
   "cell_type": "code",
   "execution_count": null,
   "metadata": {},
   "outputs": [],
   "source": []
  }
 ],
 "metadata": {
  "kernelspec": {
   "display_name": "Python (TestEnv)",
   "language": "python",
   "name": "test_env"
  },
  "language_info": {
   "codemirror_mode": {
    "name": "ipython",
    "version": 3
   },
   "file_extension": ".py",
   "mimetype": "text/x-python",
   "name": "python",
   "nbconvert_exporter": "python",
   "pygments_lexer": "ipython3",
   "version": "3.7.2"
  }
 },
 "nbformat": 4,
 "nbformat_minor": 2
}
