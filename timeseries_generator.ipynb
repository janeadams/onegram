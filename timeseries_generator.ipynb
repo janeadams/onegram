{
 "cells": [
  {
   "cell_type": "code",
   "execution_count": 1,
   "metadata": {},
   "outputs": [],
   "source": [
    "import pandas as pd\n",
    "import numpy as np\n",
    "import dash\n",
    "import flask\n",
    "from dash.dependencies import Input, Output\n",
    "import dash_core_components as dcc\n",
    "import dash_html_components as html\n",
    "from pandas_datareader import data as web\n",
    "from datetime import datetime as dt"
   ]
  },
  {
   "cell_type": "code",
   "execution_count": 2,
   "metadata": {},
   "outputs": [],
   "source": [
    "import pymongo"
   ]
  },
  {
   "cell_type": "code",
   "execution_count": 3,
   "metadata": {},
   "outputs": [],
   "source": [
    "from dotenv import load_dotenv\n",
    "load_dotenv()\n",
    "import os\n",
    "password = os.getenv(\"PASSWORD\")\n",
    "username = os.getenv(\"USERNAME\")"
   ]
  },
  {
   "cell_type": "code",
   "execution_count": 4,
   "metadata": {},
   "outputs": [],
   "source": [
    "client = pymongo.MongoClient('mongodb://%s:%s@127.0.0.1' % (username, password))\n",
    "db = client[\"1-grams\"]"
   ]
  },
  {
   "cell_type": "code",
   "execution_count": 5,
   "metadata": {},
   "outputs": [
    {
     "data": {
      "text/plain": [
       "\"\\nimport csv\\nwordlist = []\\nwith open('wordlist.csv', 'rt') as f:\\n    reader = csv.reader(f)\\n    wordlist = list(reader)\\n\""
      ]
     },
     "execution_count": 5,
     "metadata": {},
     "output_type": "execute_result"
    }
   ],
   "source": [
    "\"\"\"\n",
    "import csv\n",
    "wordlist = []\n",
    "with open('wordlist.csv', 'rt') as f:\n",
    "    reader = csv.reader(f)\n",
    "    wordlist = list(reader)\n",
    "\"\"\""
   ]
  },
  {
   "cell_type": "code",
   "execution_count": 6,
   "metadata": {},
   "outputs": [],
   "source": [
    "def load(word):\n",
    "    try:\n",
    "        df = pd.DataFrame(list(db[\"tweets\"].find({ \"word\": word})))\n",
    "        df = df.sort_values(by=['time'])\n",
    "        df['year'] = [date.year for date in df['time']]\n",
    "        df['day'] = [date.timetuple().tm_yday for date in df['time']]\n",
    "        return df\n",
    "    except:\n",
    "        print(str(\"No timeseries found for \"+word))\n",
    "        df = pd.DataFrame()\n",
    "        return df"
   ]
  },
  {
   "cell_type": "markdown",
   "metadata": {},
   "source": [
    "# Input box for query"
   ]
  },
  {
   "cell_type": "code",
   "execution_count": null,
   "metadata": {},
   "outputs": [
    {
     "name": "stdout",
     "output_type": "stream",
     "text": [
      " * Serving Flask app \"__main__\" (lazy loading)\n",
      " * Environment: production\n",
      "   WARNING: Do not use the development server in a production environment.\n",
      "   Use a production WSGI server instead.\n",
      " * Debug mode: off\n"
     ]
    },
    {
     "name": "stderr",
     "output_type": "stream",
     "text": [
      " * Running on http://0.0.0.0:8051/ (Press CTRL+C to quit)\n",
      "10.245.186.62 - - [18/Apr/2019 13:05:45] \"GET / HTTP/1.1\" 200 -\n",
      "10.245.186.62 - - [18/Apr/2019 13:05:45] \"GET /styles.css HTTP/1.1\" 200 -\n",
      "10.245.186.62 - - [18/Apr/2019 13:05:45] \"GET /_dash-layout HTTP/1.1\" 200 -\n",
      "10.245.186.62 - - [18/Apr/2019 13:05:45] \"GET /_favicon.ico HTTP/1.1\" 200 -\n",
      "10.245.186.62 - - [18/Apr/2019 13:05:45] \"GET /_dash-dependencies HTTP/1.1\" 200 -\n",
      "10.245.186.62 - - [18/Apr/2019 13:05:46] \"POST /_dash-update-component HTTP/1.1\" 200 -\n"
     ]
    }
   ],
   "source": [
    "external_stylesheets = ['styles.css']\n",
    "\n",
    "server = flask.Flask(__name__)\n",
    "\n",
    "app = dash.Dash(__name__, server=server, external_stylesheets=external_stylesheets)\n",
    "\n",
    "app.layout = html.Div([\n",
    "    html.H1('Twitter 1-grams'),\n",
    "    dcc.Input(id='my-id', value='@realdonaldtrump', type='text'),\n",
    "    dcc.Graph(id='my-graph'),\n",
    "])\n",
    "\n",
    "@app.callback(Output('my-graph', 'figure'), [Input('my-id', 'value')])\n",
    "def update_graph(input_value):\n",
    "    data=[]\n",
    "    layout={\n",
    "        'yaxis': {'autorange': 'reversed', 'type':'log'},\n",
    "    }\n",
    "    figure = {'data':data, 'layout':layout}\n",
    "    values = input_value.split(',')\n",
    "    for item in values:\n",
    "        df = load(item)\n",
    "        data.append({'x':df['time'], 'y':df['rank'],'name':item})\n",
    "    return figure\n",
    "\n",
    "\n",
    "if __name__ == '__main__':\n",
    "    app.run_server(port=8051, host='0.0.0.0')"
   ]
  },
  {
   "cell_type": "markdown",
   "metadata": {},
   "source": [
    "# Dropdown for query"
   ]
  },
  {
   "cell_type": "code",
   "execution_count": null,
   "metadata": {},
   "outputs": [],
   "source": [
    "import numpy as np"
   ]
  },
  {
   "cell_type": "code",
   "execution_count": null,
   "metadata": {},
   "outputs": [],
   "source": [
    "from numpy import random"
   ]
  },
  {
   "cell_type": "code",
   "execution_count": null,
   "metadata": {},
   "outputs": [],
   "source": [
    "nums = random.randint(0,len(wordlist),size=10000)"
   ]
  },
  {
   "cell_type": "code",
   "execution_count": null,
   "metadata": {},
   "outputs": [],
   "source": [
    "options = []\n",
    "for num in nums:\n",
    "    word = wordlist[num][0]\n",
    "    options.append({'label': word,'value': word})"
   ]
  },
  {
   "cell_type": "code",
   "execution_count": null,
   "metadata": {},
   "outputs": [],
   "source": [
    "external_stylesheets = ['styles.css']\n",
    "\n",
    "server = flask.Flask(__name__)\n",
    "\n",
    "app = dash.Dash(__name__, server=server, external_stylesheets=external_stylesheets)\n",
    "\n",
    "app.layout = html.Div([\n",
    "    html.H1('Twitter 1-grams'),\n",
    "    html.Div([\n",
    "        dcc.Dropdown(id='my-dropdown', options=options, value=['@realdonaldtrump','covfefe'], multi=True)]),\n",
    "    dcc.Graph(id='my-graph')\n",
    "])\n",
    "\n",
    "@app.callback(Output('my-graph', 'figure'), [Input('my-dropdown', 'value')])\n",
    "\n",
    "def update_graph(input_value):\n",
    "    data=[]\n",
    "    figure = {'data':data}\n",
    "    for item in input_value:\n",
    "        df = load(item)\n",
    "        data.append({'x':df['time'], 'y':df['counts'],'name':item})\n",
    "    return figure\n",
    "\n",
    "\n",
    "if __name__ == '__main__':\n",
    "    app.run_server()"
   ]
  },
  {
   "cell_type": "code",
   "execution_count": null,
   "metadata": {},
   "outputs": [],
   "source": []
  }
 ],
 "metadata": {
  "kernelspec": {
   "display_name": "Python (TestEnv)",
   "language": "python",
   "name": "test_env"
  },
  "language_info": {
   "codemirror_mode": {
    "name": "ipython",
    "version": 3
   },
   "file_extension": ".py",
   "mimetype": "text/x-python",
   "name": "python",
   "nbconvert_exporter": "python",
   "pygments_lexer": "ipython3",
   "version": "3.7.2"
  }
 },
 "nbformat": 4,
 "nbformat_minor": 2
}
