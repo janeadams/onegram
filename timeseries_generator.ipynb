{
 "cells": [
  {
   "cell_type": "code",
   "execution_count": 1,
   "metadata": {},
   "outputs": [],
   "source": [
    "import pandas as pd\n",
    "import numpy as np\n",
    "import dash\n",
    "import flask\n",
    "from dash.dependencies import Input, Output\n",
    "import dash_core_components as dcc\n",
    "import dash_html_components as html\n",
    "from pandas_datareader import data as web\n",
    "from datetime import datetime as dt"
   ]
  },
  {
   "cell_type": "code",
   "execution_count": 2,
   "metadata": {},
   "outputs": [],
   "source": [
    "import pymongo"
   ]
  },
  {
   "cell_type": "code",
   "execution_count": 3,
   "metadata": {},
   "outputs": [],
   "source": [
    "from dotenv import load_dotenv\n",
    "load_dotenv()\n",
    "import os\n",
    "password = os.getenv(\"PASSWORD\")\n",
    "username = os.getenv(\"USERNAME\")\n",
    "location = os.getenv(\"LOCATION\")\n",
    "collection = os.getenv(\"COLLECTION\")"
   ]
  },
  {
   "cell_type": "code",
   "execution_count": 4,
   "metadata": {},
   "outputs": [
    {
     "data": {
      "text/plain": [
       "'27017/1grams'"
      ]
     },
     "execution_count": 4,
     "metadata": {},
     "output_type": "execute_result"
    }
   ],
   "source": [
    "location"
   ]
  },
  {
   "cell_type": "code",
   "execution_count": 5,
   "metadata": {},
   "outputs": [
    {
     "data": {
      "text/plain": [
       "'en'"
      ]
     },
     "execution_count": 5,
     "metadata": {},
     "output_type": "execute_result"
    }
   ],
   "source": [
    "collection"
   ]
  },
  {
   "cell_type": "code",
   "execution_count": 6,
   "metadata": {},
   "outputs": [],
   "source": [
    "client = pymongo.MongoClient('mongodb://%s:%s@127.0.0.1' % (username, password))\n",
    "db = client[location[6:]]"
   ]
  },
  {
   "cell_type": "code",
   "execution_count": 7,
   "metadata": {},
   "outputs": [],
   "source": [
    "def load(word):\n",
    "    try:\n",
    "        df = pd.DataFrame(list(db[collection].find({ \"word\": word})))\n",
    "        df = df.sort_values(by=['time'])\n",
    "        df['year'] = [date.year for date in df['time']]\n",
    "        df['day'] = [date.timetuple().tm_yday for date in df['time']]\n",
    "        return df\n",
    "    except:\n",
    "        print(str(\"No timeseries found for \"+word))\n",
    "        df = pd.DataFrame()\n",
    "        return df"
   ]
  },
  {
   "cell_type": "code",
   "execution_count": null,
   "metadata": {},
   "outputs": [],
   "source": [
    "q = load('@realdonaldtrump')\n",
    "q"
   ]
  },
  {
   "cell_type": "code",
   "execution_count": null,
   "metadata": {},
   "outputs": [],
   "source": [
    "import dash\n",
    "import dash_core_components as dcc\n",
    "import dash_html_components as html\n",
    "\n",
    "external_stylesheets = ['https://codepen.io/chriddyp/pen/bWLwgP.css']\n",
    "\n",
    "app = dash.Dash(__name__, external_stylesheets=external_stylesheets)\n",
    "\n",
    "app.layout = html.Div(children=[\n",
    "    html.H1(children='Hello Dash'),\n",
    "\n",
    "    html.Div(children='''\n",
    "        Dash: A web application framework for Python.\n",
    "    '''),\n",
    "\n",
    "    dcc.Graph(\n",
    "        id='example-graph',\n",
    "        figure={\n",
    "            'data': [\n",
    "                {'x': [1, 2, 3], 'y': [4, 1, 2], 'type': 'bar', 'name': 'SF'},\n",
    "                {'x': [1, 2, 3], 'y': [2, 4, 5], 'type': 'bar', 'name': u'Montréal'},\n",
    "            ],\n",
    "            'layout': {\n",
    "                'title': 'Dash Data Visualization'\n",
    "            }\n",
    "        }\n",
    "    )\n",
    "])\n",
    "\n",
    "if __name__ == '__main__':\n",
    "    app.run_server(port=8051, host='0.0.0.0')"
   ]
  },
  {
   "cell_type": "markdown",
   "metadata": {},
   "source": [
    "# Input box for query"
   ]
  },
  {
   "cell_type": "code",
   "execution_count": null,
   "metadata": {},
   "outputs": [],
   "source": [
    "external_stylesheets = ['styles.css']\n",
    "\n",
    "server = flask.Flask(__name__)\n",
    "\n",
    "app = dash.Dash(__name__, server=server, external_stylesheets=external_stylesheets)\n",
    "\n",
    "data=[]\n",
    "\n",
    "app.layout = html.Div([\n",
    "    html.H1('Twitter 1-grams'),\n",
    "    dcc.Input(id='my-id', value='@realdonaldtrump', type='text'),\n",
    "    dcc.Graph(id='my-graph',figure={'layout': {'yaxis': {'autorange': 'reversed', 'type':'log'}}}),\n",
    "])\n",
    "\n",
    "@app.callback(Output('my-graph', 'figure'), [Input('my-id', 'value')])\n",
    "def update_graph(input_value):\n",
    "    layout={\n",
    "        'yaxis': {'autorange': 'reversed', 'type':'log'},\n",
    "    }\n",
    "    figure = {'data':data, 'layout':layout}\n",
    "    input_value = input_value.replace({\"   \":\",\",\"  \":\",\",\" \":\",\",\",,\":\",\",\",,,\":\",\"})\n",
    "    values = input_value.split(',')\n",
    "    for item in values:\n",
    "        item = lower(item)\n",
    "        df = load(item)\n",
    "        data.append({'x':df['time'], 'y':df['rank'],'name':item})\n",
    "    return figure\n",
    "\n",
    "if __name__ == '__main__':\n",
    "    app.run_server(port=8051, host='0.0.0.0')"
   ]
  },
  {
   "cell_type": "markdown",
   "metadata": {},
   "source": [
    "# Dropdown for query"
   ]
  },
  {
   "cell_type": "markdown",
   "metadata": {},
   "source": [
    "### Load wordlist"
   ]
  },
  {
   "cell_type": "code",
   "execution_count": null,
   "metadata": {},
   "outputs": [],
   "source": [
    "import csv\n",
    "wordlist = []\n",
    "with open('wordlist_from-df.csv', 'rt') as f:\n",
    "    reader = csv.reader(f)\n",
    "    next(reader)\n",
    "    wordlist=list(reader)"
   ]
  },
  {
   "cell_type": "code",
   "execution_count": null,
   "metadata": {},
   "outputs": [],
   "source": [
    "wordDF=pd.DataFrame(wordlist, columns=['word','rank'])"
   ]
  },
  {
   "cell_type": "code",
   "execution_count": null,
   "metadata": {},
   "outputs": [],
   "source": [
    "wordDF=wordDF[wordDF['rank']!='Rank']"
   ]
  },
  {
   "cell_type": "code",
   "execution_count": null,
   "metadata": {},
   "outputs": [],
   "source": [
    "wordDF=wordDF[wordDF['rank']!='minRank']"
   ]
  },
  {
   "cell_type": "code",
   "execution_count": null,
   "metadata": {},
   "outputs": [],
   "source": [
    "wordDF['rank']=wordDF['rank'].astype(int);"
   ]
  },
  {
   "cell_type": "markdown",
   "metadata": {},
   "source": [
    "### Dropdown with under 5k"
   ]
  },
  {
   "cell_type": "code",
   "execution_count": null,
   "metadata": {},
   "outputs": [],
   "source": [
    "wordDF[wordDF['rank']<5000].shape"
   ]
  },
  {
   "cell_type": "code",
   "execution_count": null,
   "metadata": {},
   "outputs": [],
   "source": [
    "options = []\n",
    "wordDF_filtered = wordDF[wordDF['rank']<5000]\n",
    "for word in wordDF_filtered['word']:\n",
    "    options.append({'label': word,'value': word})"
   ]
  },
  {
   "cell_type": "code",
   "execution_count": null,
   "metadata": {},
   "outputs": [],
   "source": [
    "options[:5]"
   ]
  },
  {
   "cell_type": "code",
   "execution_count": null,
   "metadata": {},
   "outputs": [],
   "source": [
    "options[100:105]"
   ]
  },
  {
   "cell_type": "code",
   "execution_count": null,
   "metadata": {},
   "outputs": [],
   "source": [
    "external_stylesheets = ['styles.css']\n",
    "\n",
    "server = flask.Flask(__name__)\n",
    "\n",
    "app = dash.Dash(__name__, server=server, external_stylesheets=external_stylesheets)\n",
    "\n",
    "app.layout = html.Div([\n",
    "    html.H1('Twitter 1-grams'),\n",
    "    html.P('This shows any one-grams that cracked the top 5k rank at any time (47,844 onegrams)'),\n",
    "    html.Div([\n",
    "        dcc.Dropdown(id='my-dropdown', options=options, value=['@realdonaldtrump','@bts_twt'], multi=True)]),\n",
    "    dcc.Graph(id='my-graph',figure={'layout': {'yaxis': {'autorange': 'reversed', 'type':'log'}}})\n",
    "])\n",
    "\n",
    "@app.callback(Output('my-graph', 'figure'), [Input('my-dropdown', 'value')])\n",
    "\n",
    "def update_graph(input_value):\n",
    "    data=[]\n",
    "    layout={\n",
    "        'yaxis': {'autorange': 'reversed', 'type':'log'},\n",
    "    }\n",
    "    figure = {'data':data, 'layout':layout}\n",
    "    input_value = input_value.replace({\"   \":\",\",\"  \":\",\",\" \":\",\",\",,\":\",\",\",,,\":\",\"})\n",
    "    for item in input_value:\n",
    "        item = lower(item)\n",
    "        df = load(item)\n",
    "        data.append({'x':df['time'], 'y':df['rank'],'name':item})\n",
    "    return figure\n",
    "\n",
    "\n",
    "if __name__ == '__main__':\n",
    "    app.run_server(port=8051, host='0.0.0.0')"
   ]
  },
  {
   "cell_type": "markdown",
   "metadata": {},
   "source": [
    "### Dropdown of under 1k list, with ability to add options"
   ]
  },
  {
   "cell_type": "code",
   "execution_count": null,
   "metadata": {},
   "outputs": [],
   "source": [
    "options = []\n",
    "wordDF_filtered = wordDF[wordDF['rank']<1000]\n",
    "wordDF_filtered=wordDF_filtered.sort_values(by='rank')\n",
    "for word in wordDF_filtered['word']:\n",
    "    options.append(word)"
   ]
  },
  {
   "cell_type": "code",
   "execution_count": null,
   "metadata": {},
   "outputs": [],
   "source": [
    "external_stylesheets = ['styles.css']\n",
    "\n",
    "server = flask.Flask(__name__)\n",
    "\n",
    "app = dash.Dash(__name__, server=server, external_stylesheets=external_stylesheets)\n",
    "\n",
    "app.layout = html.Div([\n",
    "    html.H1('Twitter 1-grams'),\n",
    "    html.P('Select a one-gram that cracked the top 1k rank at any time (1,056 onegrams)'),\n",
    "    html.Datalist(id=\"wordlist\", children=[]),\n",
    "    dcc.Input(\n",
    "        id='input-field',\n",
    "        name='symbol',\n",
    "        list='wordlist',\n",
    "        placeholder='Enter a value...',\n",
    "        type='text',\n",
    "        value='trump'\n",
    "    ),\n",
    "    dcc.Graph(id='my-graph',figure={'layout': {'yaxis': {'autorange': 'reversed', 'type':'log'}}})\n",
    "])\n",
    "\n",
    "@app.callback(Output('wordlist', 'children'),[Input('input-field', 'value')])\n",
    "def callback(item):\n",
    "    if len(item) < 5:\n",
    "        wordDF_filtered = wordDF[wordDF['rank']<1000]\n",
    "    else:\n",
    "        wordDF_filtered = wordDF[wordDF['word'].str.contains(item)]\n",
    "    for word in wordDF_filtered:\n",
    "        options.append(word)\n",
    "    return options\n",
    "\n",
    "@app.callback(Output('my-graph', 'figure'), [Input('input-field', 'value')])\n",
    "def update_graph(input_value):\n",
    "    data=[]\n",
    "    layout={\n",
    "        'yaxis': {'autorange': 'reversed', 'type':'log'},\n",
    "    }\n",
    "    figure = {'data':data, 'layout':layout}\n",
    "    input_value = input_value.replace({\"   \":\",\",\"  \":\",\",\" \":\",\",\",,\":\",\",\",,,\":\",\"})\n",
    "    values = input_value.split(',')\n",
    "    for item in values:\n",
    "        item = lower(item)\n",
    "        df = load(item)\n",
    "        data.append({'x':df['time'], 'y':df['rank'],'name':item})\n",
    "    return figure\n",
    "\n",
    "\n",
    "if __name__ == '__main__':\n",
    "    app.run_server(port=8051, host='0.0.0.0')"
   ]
  },
  {
   "cell_type": "markdown",
   "metadata": {},
   "source": [
    "### Dynamic Dropdown (abandoned)"
   ]
  },
  {
   "cell_type": "code",
   "execution_count": null,
   "metadata": {},
   "outputs": [],
   "source": [
    "external_stylesheets = ['styles.css']\n",
    "\n",
    "server = flask.Flask(__name__)\n",
    "\n",
    "app = dash.Dash(__name__, server=server, external_stylesheets=external_stylesheets)\n",
    "\n",
    "app.layout = html.Div([\n",
    "    html.H1('Twitter 1-grams'),\n",
    "    html.P('Select a one-gram that cracked the top 5k rank at any time (47,844 onegrams)'),\n",
    "    html.Div([\n",
    "        dcc.Dropdown(id='my-dropdown', options=options, value=['@realdonaldtrump','@bts_twt'], multi=True)]),\n",
    "    dcc.Graph(id='my-graph',figure={'layout': {'yaxis': {'autorange': 'reversed', 'type':'log'}}})\n",
    "])\n",
    "\n",
    "@app.callback(Output('my-graph', 'figure'), [Input('my-dropdown', 'value')])\n",
    "\n",
    "def update_graph(input_value):\n",
    "    data=[]\n",
    "    layout={\n",
    "        'yaxis': {'autorange': 'reversed', 'type':'log'},\n",
    "    }\n",
    "    figure = {'data':data, 'layout':layout}\n",
    "    for item in input_value:\n",
    "        item = lower(item)\n",
    "        df = load(item)\n",
    "        data.append({'x':df['time'], 'y':df['rank'],'name':item})\n",
    "    return figure\n",
    "\n",
    "@app.callback(Output('my-dropdown', 'options'), [Input('my-dropdown', 'value')])\n",
    "\n",
    "def update_options(input_value):\n",
    "    for item in input_value:\n",
    "        if len(item) < 5:\n",
    "            wordDF_filtered = wordDF[wordDF['rank']<1000]\n",
    "        else:\n",
    "            wordDF_filtered = wordDF[wordDF['word'].str.contains(item)]\n",
    "        for word in wordDF_filtered:\n",
    "            options.append({'label': word[0],'value': word[0]})\n",
    "    return options\n",
    "\n",
    "\n",
    "if __name__ == '__main__':\n",
    "    app.run_server(port=8051, host='0.0.0.0')"
   ]
  },
  {
   "cell_type": "code",
   "execution_count": null,
   "metadata": {},
   "outputs": [],
   "source": []
  }
 ],
 "metadata": {
  "kernelspec": {
   "display_name": "Python (TestEnv)",
   "language": "python",
   "name": "test_env"
  },
  "language_info": {
   "codemirror_mode": {
    "name": "ipython",
    "version": 3
   },
   "file_extension": ".py",
   "mimetype": "text/x-python",
   "name": "python",
   "nbconvert_exporter": "python",
   "pygments_lexer": "ipython3",
   "version": "3.7.2"
  }
 },
 "nbformat": 4,
 "nbformat_minor": 2
}
