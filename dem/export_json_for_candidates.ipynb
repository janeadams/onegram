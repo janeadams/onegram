{
 "cells": [
  {
   "cell_type": "code",
   "execution_count": 18,
   "metadata": {},
   "outputs": [],
   "source": [
    "import requests"
   ]
  },
  {
   "cell_type": "code",
   "execution_count": 19,
   "metadata": {},
   "outputs": [],
   "source": [
    "from dotenv import load_dotenv\n",
    "load_dotenv()\n",
    "import os\n",
    "api_url_root = os.getenv(\"URL\")"
   ]
  },
  {
   "cell_type": "code",
   "execution_count": 20,
   "metadata": {},
   "outputs": [],
   "source": [
    "handles=[\\\n",
    "    ['@BilldeBlasio','@JulianCastro','@ewarren','@amyklobuchar','@JayInslee','@TulsiGabbard','@TimRyan','@CoryBooker','@BetoORourke','@JohnDelaney','#DemDebate'],\\\n",
    "    ['@marwilliamson','@Hickenlooper','@AndrewYang','@JoeBiden','@SenSanders','@KamalaHarris','@PeteButtigieg','@SenGillibrand','@SenatorBennet','@ericswalwell','#DemDebate'],\\\n",
    "    ['@BilldeBlasio','@JulianCastro','@ewarren','@amyklobuchar','@JayInslee','@TulsiGabbard','@TimRyan','@CoryBooker','@BetoORourke','@JohnDelaney','@marwilliamson','@Hickenlooper','@AndrewYang','@JoeBiden','@SenSanders','@KamalaHarris','@PeteButtigieg','@SenGillibrand','@SenatorBennet','@ericswalwell','#DemDebate']]\n",
    "words=[\\\n",
    "    ['deblasio','castro','warren','klobuchar','inslee','gabbard','tulsi','ryan','booker','beto','delaney','#demdebate'],\\\n",
    "    ['williamson','hickenlooper','yang','biden','bernie','sanders','kamala','harris','gillibrand','bennet','swalwell','#demdebate'],\\\n",
    "    ['deblasio','castro','warren','klobuchar','inslee','gabbard','tulsi','ryan','booker','beto','delaney','williamson','hickenlooper','yang','biden','bernie','sanders','kamala','harris','gillibrand','bennet','swalwell','#demdebate']]"
   ]
  },
  {
   "cell_type": "code",
   "execution_count": 21,
   "metadata": {},
   "outputs": [],
   "source": [
    "def save_json(q):\n",
    "    q = q.lower()\n",
    "    url = str('http://'+api_url_root+'/api/onegrams/'+q)\n",
    "    r = requests.get(url, allow_redirects=True)\n",
    "    filepath=str('json/'+q+'.json')\n",
    "    open(filepath, 'wb').write(r.content)"
   ]
  },
  {
   "cell_type": "code",
   "execution_count": 22,
   "metadata": {},
   "outputs": [],
   "source": [
    "for handle in handles[2]:\n",
    "    save_json(handle)\n",
    "for word in words[2]:\n",
    "    save_json(word)"
   ]
  },
  {
   "cell_type": "code",
   "execution_count": null,
   "metadata": {},
   "outputs": [],
   "source": []
  }
 ],
 "metadata": {
  "kernelspec": {
   "display_name": "Python 3",
   "language": "python",
   "name": "python3"
  },
  "language_info": {
   "codemirror_mode": {
    "name": "ipython",
    "version": 3
   },
   "file_extension": ".py",
   "mimetype": "text/x-python",
   "name": "python",
   "nbconvert_exporter": "python",
   "pygments_lexer": "ipython3",
   "version": "3.7.2"
  }
 },
 "nbformat": 4,
 "nbformat_minor": 2
}
