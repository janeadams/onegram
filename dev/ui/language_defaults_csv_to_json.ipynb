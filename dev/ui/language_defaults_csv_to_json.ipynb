{
 "cells": [
  {
   "cell_type": "code",
   "execution_count": 21,
   "metadata": {},
   "outputs": [],
   "source": [
    "import csv\n",
    "import json"
   ]
  },
  {
   "cell_type": "code",
   "execution_count": 27,
   "metadata": {},
   "outputs": [],
   "source": [
    "defaults = {}"
   ]
  },
  {
   "cell_type": "code",
   "execution_count": 28,
   "metadata": {},
   "outputs": [],
   "source": [
    "with open('language_defaults.csv', newline='') as csvfile:\n",
    "    reader = csv.reader(csvfile, delimiter=',')\n",
    "    for row in reader:\n",
    "        defaults[row[1]]=row[2:]"
   ]
  },
  {
   "cell_type": "code",
   "execution_count": 29,
   "metadata": {},
   "outputs": [
    {
     "data": {
      "text/plain": [
       "{'af': ['kun je dit', '#RWC2019', 'hallo', '🇿🇦'],\n",
       " 'sq': ['natën e mirë', '#kosova', 'përshëndetje', '🇦🇱'],\n",
       " 'ar': ['صباح الخير', '#love', 'ههههه', '💛'],\n",
       " 'an': ['bueno', '#viernes', 'ههههه', '😂'],\n",
       " 'hy': ['սիրում եմ քեզ', '#armenia', 'Հայաստանի', '🇦🇲'],\n",
       " 'ast': ['asturias', '#Oviedo', 'hola', '🇪🇸'],\n",
       " 'az': ['ad günün mübarək', '#baku', 'təbriklər', '🇦🇿'],\n",
       " 'eu': ['maitasun', '#Enkarterri', 'kaixo', '🌞'],\n",
       " 'be': ['Я цябе кахаю', '#Minsk', 'каханне', '🇧🇾'],\n",
       " 'bn': ['Abdul Hamid', '#dhaka', 'hahaha', '🇧🇩'],\n",
       " 'bs': ['Valentin Inzko', '#sarajevo', 'zdravo', '🇧🇦'],\n",
       " 'br': ['Breizh', '#breton', 'hahaha', '🎄'],\n",
       " 'bg': ['Черно море', '#Sofia', 'Благодаря', '🇧🇬'],\n",
       " 'ca': ['bon any nou', '#catalonia', 'divendres', '🇪🇸'],\n",
       " 'en': ['Black Lives Matter', '#friday', 'hahaha', '🦠'],\n",
       " 'fr': ['Emmanuel Macron', '#vendredi', 'héhéhé', '🎄'],\n",
       " 'de': ['hahaha', '#freitag', 'Herzlichen Glückwunsch', '🇩🇪'],\n",
       " 'id': ['Joko Widodo', '#jumat', 'wkwkwkwk', '🇮🇩'],\n",
       " 'it': ['Serie A', '#venerdì', 'hahaha', '🇮🇹'],\n",
       " 'jbo': [\"co'o\", '#lojban', 'coi', '😊'],\n",
       " 'pt': ['sexta feira', '#futebol', 'kkkkk', '🇧🇷'],\n",
       " 'es': ['buenas noches', '#viernes', 'jajaja', '🇵🇷'],\n",
       " 'sv': ['Stefan Löfven', '#fredag', 'hahaha', '🇸🇪'],\n",
       " 'tr': ['Tayyip Erdoğan', '#cuma', 'hahaha', '🇹🇷'],\n",
       " 'uk': ['Євромайдан', '#п’ятниця', 'xaxaxa', '🇺🇦'],\n",
       " 'vi': ['Nguyễn Xuân Phúc', '#hanoi', 'hahaha', '🇻🇳']}"
      ]
     },
     "execution_count": 29,
     "metadata": {},
     "output_type": "execute_result"
    }
   ],
   "source": [
    "defaults"
   ]
  },
  {
   "cell_type": "code",
   "execution_count": 30,
   "metadata": {},
   "outputs": [],
   "source": [
    "with open('language_defaults.json', 'w') as outfile:\n",
    "    json.dump(defaults, outfile)"
   ]
  },
  {
   "cell_type": "code",
   "execution_count": null,
   "metadata": {},
   "outputs": [],
   "source": []
  }
 ],
 "metadata": {
  "kernelspec": {
   "display_name": "Python 3",
   "language": "python",
   "name": "python3"
  },
  "language_info": {
   "codemirror_mode": {
    "name": "ipython",
    "version": 3
   },
   "file_extension": ".py",
   "mimetype": "text/x-python",
   "name": "python",
   "nbconvert_exporter": "python",
   "pygments_lexer": "ipython3",
   "version": "3.7.6"
  }
 },
 "nbformat": 4,
 "nbformat_minor": 4
}
