{
 "cells": [
  {
   "cell_type": "code",
   "execution_count": 21,
   "metadata": {},
   "outputs": [],
   "source": [
    "import csv\n",
    "import json"
   ]
  },
  {
   "cell_type": "code",
   "execution_count": 18,
   "metadata": {},
   "outputs": [],
   "source": [
    "defaults = {}"
   ]
  },
  {
   "cell_type": "code",
   "execution_count": 19,
   "metadata": {},
   "outputs": [],
   "source": [
    "with open('language_defaults.csv', newline='') as csvfile:\n",
    "    reader = csv.reader(csvfile, delimiter=',')\n",
    "    for row in reader:\n",
    "        defaults[row[0]]=row[1:]"
   ]
  },
  {
   "cell_type": "code",
   "execution_count": 20,
   "metadata": {},
   "outputs": [
    {
     "data": {
      "text/plain": [
       "{'Afrikaans': ['af', 'kun je dit', '#RWC2019', 'hallo', '🇿🇦'],\n",
       " 'Albanian': ['sq', 'natën e mirë', '#kosova', 'përshëndetje', '🇦🇱'],\n",
       " 'Arabic': ['ar', 'صباح الخير', '#love', 'ههههه', '💛'],\n",
       " 'Aragonese': ['an', 'bueno', '#viernes', 'ههههه', '😂'],\n",
       " 'Armenian': ['hy', 'սիրում եմ քեզ', '#armenia', 'Հայաստանի', '🇦🇲'],\n",
       " 'Asturian': ['ast', 'asturias', '#Oviedo', 'hola', '🇪🇸'],\n",
       " 'Azerbaijani': ['az', 'ad günün mübarək', '#baku', 'təbriklər', '🇦🇿'],\n",
       " 'Basque': ['eu', 'maitasun', '#Enkarterri', 'kaixo', '🌞'],\n",
       " 'Belarusian': ['be', 'Я цябе кахаю', '#Minsk', 'каханне', '🇧🇾'],\n",
       " 'Bengali': ['bn', 'Abdul Hamid', '#dhaka', 'hahaha', '🇧🇩'],\n",
       " 'Bosnian': ['bs', 'Valentin Inzko', '#sarajevo', 'zdravo', '🇧🇦'],\n",
       " 'Breton': ['br', 'Breizh', '#breton', 'hahaha', '🎄'],\n",
       " 'Bulgarian': ['bg', 'Черно море', '#Sofia', 'Благодаря', '🇧🇬'],\n",
       " 'Catalan': ['ca', 'bon any nou', '#catalonia', 'divendres', '🇪🇸'],\n",
       " 'English': ['en', 'Black Lives Matter', '#friday', 'hahaha', '🦠'],\n",
       " 'French': ['fr', 'Emmanuel Macron', '#vendredi', 'héhéhé', '🎄'],\n",
       " 'German': ['de', 'hahaha', '#freitag', 'Herzlichen Glückwunsch', '🇩🇪'],\n",
       " 'Indonesian': ['id', 'Joko Widodo', '#jumat', 'wkwkwkwk', '🇮🇩'],\n",
       " 'Italian': ['it', 'Serie A', '#venerdì', 'hahaha', '🇮🇹'],\n",
       " 'Lojban': ['jbo', \"co'o\", '#lojban', 'coi', '😊'],\n",
       " 'Portuguese': ['pt', 'sexta feira', '#futebol', 'kkkkk', '🇧🇷'],\n",
       " 'Spanish': ['es', 'buenas noches', '#viernes', 'jajaja', '🇵🇷'],\n",
       " 'Swedish': ['sv', 'Stefan Löfven', '#fredag', 'hahaha', '🇸🇪'],\n",
       " 'Turkish': ['tr', 'Tayyip Erdoğan', '#cuma', 'hahaha', '🇹🇷'],\n",
       " 'Ukrainian': ['uk', 'Євромайдан', '#п’ятниця', 'xaxaxa', '🇺🇦'],\n",
       " 'Vietnamese': ['vi', 'Nguyễn Xuân Phúc', '#hanoi', 'hahaha', '🇻🇳']}"
      ]
     },
     "execution_count": 20,
     "metadata": {},
     "output_type": "execute_result"
    }
   ],
   "source": [
    "defaults"
   ]
  },
  {
   "cell_type": "code",
   "execution_count": 22,
   "metadata": {},
   "outputs": [],
   "source": [
    "with open('language_defaults.json', 'w') as outfile:\n",
    "    json.dump(defaults, outfile)"
   ]
  },
  {
   "cell_type": "code",
   "execution_count": null,
   "metadata": {},
   "outputs": [],
   "source": []
  }
 ],
 "metadata": {
  "kernelspec": {
   "display_name": "Python 3",
   "language": "python",
   "name": "python3"
  },
  "language_info": {
   "codemirror_mode": {
    "name": "ipython",
    "version": 3
   },
   "file_extension": ".py",
   "mimetype": "text/x-python",
   "name": "python",
   "nbconvert_exporter": "python",
   "pygments_lexer": "ipython3",
   "version": "3.7.6"
  }
 },
 "nbformat": 4,
 "nbformat_minor": 4
}
