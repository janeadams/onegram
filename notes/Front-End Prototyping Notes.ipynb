{
 "cells": [
  {
   "cell_type": "markdown",
   "metadata": {},
   "source": [
    "# Twitter Onegram Viewer\n",
    "## Current prototyping environment for front-end interfaces\n",
    "There are two methods for accessing onegrams:\n"
   ]
  },
  {
   "cell_type": "markdown",
   "metadata": {},
   "source": [
    "### API\n",
    "The API is built using Node.js with Express. It accesses the Mongo database using Mongoose, a Node package, and pulls credentials from .env.\n",
    "\n",
    "<img src=\"api.jpg\">\n",
    "\n",
    "To use the API from a local machine:\n",
    "- `ssh username@hydra.uvm.edu`\n",
    "- Clone this Github repository to your user folder on Hydra\n",
    "- `node server.js`\n",
    "- In another Terminal window:\n",
    "- `ssh -N -L localhost:3001:localhost:3001 username@hydra.uvm.edu`\n",
    "- Visit http://localhost:3001/api/onegrams/christmas (or whatever word you would like to query)"
   ]
  },
  {
   "cell_type": "markdown",
   "metadata": {},
   "source": [
    "### UI\n",
    "The UI is currently generated from a Jupyter Notebook using Dash (a Flask-based graphing dashboard from Plotly). This will be replaced in the future by a React app, likely running D3 with Semiotic.\n",
    "\n",
    "<img src=\"ui.jpg\">\n",
    "\n",
    "To use the UI from a local machine:\n",
    "- `ssh username@hydra.uvm.edu`\n",
    "- Clone this Github repository to your user folder on Hydra\n",
    "- Set up a testing environment called `test_env` using `source activate test_env` and install:\n",
    "    - pandas\n",
    "    - numpy\n",
    "    - flask\n",
    "    - dash\n",
    "    - dash_core_components\n",
    "    - dash_html_components\n",
    "    - pandas_datareader\n",
    "    - datetime\n",
    "- `jupyter notebook --port=9994`\n",
    "- In another Terminal window, mirror the Jupyter notebook:\n",
    "- `ssh -N -L localhost:9994:localhost:9994 username@hydra.uvm.edu`\n",
    "- Open `hydra_dash_test.ipynb` and run\n",
    "- In another Terminal window, mirror the Flask app running on Hydra:\n",
    "- `ssh -N -L localhost:8050:localhost:8050 username@hydra.uvm.edu`\n",
    "- Visit http://127.0.0.1:8050/\n",
    "\n",
    "To forward the UI to the web:\n",
    "- Install [forwardhq](https://forwardhq.com/) to your Chrome browser\n",
    "- Visit http://127.0.0.1:8050/ in Chrome\n",
    "- Use the `forwardhq` browser extension to forward to your chosen URL:\n",
    "    - e.g. `http://localhost:8050/ >> onegram.fwd.wf`"
   ]
  },
  {
   "cell_type": "code",
   "execution_count": null,
   "metadata": {},
   "outputs": [],
   "source": []
  }
 ],
 "metadata": {
  "kernelspec": {
   "display_name": "Python 3",
   "language": "python",
   "name": "python3"
  },
  "language_info": {
   "codemirror_mode": {
    "name": "ipython",
    "version": 3
   },
   "file_extension": ".py",
   "mimetype": "text/x-python",
   "name": "python",
   "nbconvert_exporter": "python",
   "pygments_lexer": "ipython3",
   "version": "3.7.2"
  }
 },
 "nbformat": 4,
 "nbformat_minor": 2
}
