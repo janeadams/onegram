{
 "cells": [
  {
   "cell_type": "code",
   "execution_count": 1,
   "metadata": {},
   "outputs": [],
   "source": [
    "import json\n",
    "import pandas as pd\n",
    "import numpy as np\n",
    "import datetime as dt"
   ]
  },
  {
   "cell_type": "code",
   "execution_count": 6,
   "metadata": {},
   "outputs": [
    {
     "name": "stdout",
     "output_type": "stream",
     "text": [
      "Before removing early dates, shape is (3937, 3)\n",
      "After removing early dates, shape is (3427, 3)\n",
      "opened  ../ui/data/christmas.json\n",
      "closed  ../ui/data/christmas.json\n",
      "Before removing early dates, shape is (3889, 3)\n",
      "After removing early dates, shape is (3427, 3)\n",
      "opened  ../ui/data/easter.json\n",
      "closed  ../ui/data/easter.json\n",
      "Before removing early dates, shape is (3888, 3)\n",
      "After removing early dates, shape is (3427, 3)\n",
      "opened  ../ui/data/halloween.json\n",
      "closed  ../ui/data/halloween.json\n",
      "Before removing early dates, shape is (3788, 3)\n",
      "After removing early dates, shape is (3425, 3)\n",
      "opened  ../ui/data/superbowl.json\n",
      "closed  ../ui/data/superbowl.json\n"
     ]
    }
   ],
   "source": [
    "for query in ['christmas','easter','halloween','superbowl']:\n",
    "    output=dict()\n",
    "    output['word']=query\n",
    "    # Open JSON <---- THIS WILL BE REPLACED WITH MONGO QUERY\n",
    "    with open('../archive/d3demo/json/'+query+'.json', \"r\") as read_file:\n",
    "        data = json.load(read_file)\n",
    "    # Set columns for df\n",
    "    columns=['counts','rank','time']\n",
    "    # Build df\n",
    "    df=pd.DataFrame(data, columns=columns)\n",
    "    # Pull out beginning part of date (YY-MM-DD)\n",
    "    df['time'] = [t[:10] for t in df['time']]\n",
    "    # Convert date to date object\n",
    "    df['time'] = [dt.datetime.strptime(t, '%Y-%m-%d').date() for t in df['time']]\n",
    "    print(\"Before removing early dates, shape is\", df.shape)\n",
    "    # Remove dates before 2010\n",
    "    df=df[df['time']>=(dt.date(2010,1,1))]\n",
    "    print(\"After removing early dates, shape is\", df.shape)\n",
    "    # Calculate min, max, and mean rank\n",
    "    output['maxrank']=int(min(df['rank'].values))\n",
    "    output['minrank']=int(max(df['rank'].values))\n",
    "    output['medianrank']=int(np.round(np.median(df['rank'].values)))\n",
    "    # Index df by date\n",
    "    df.set_index('time',inplace=True)\n",
    "    # Find today's date\n",
    "    dt.datetime.today().date()\n",
    "    # How many days should we have in our dataset?\n",
    "    daterange=(dt.datetime.today().date()-df.index.min()).days\n",
    "    # Which days are we missing data for?\n",
    "    # Get a list of all days between today and the beginning of time...\n",
    "    missingdays=[(dt.datetime.today() - dt.timedelta(days=x+1)).date() for x in range(daterange)]\n",
    "    # ... then remove any days that we *do* have in our data from our list of missing dates:\n",
    "    for day in df.index:\n",
    "        missingdays.remove(day)\n",
    "    # Fill any missing days with placeholder values\n",
    "    for day in missingdays:\n",
    "        df.loc[day] = None\n",
    "        df.loc[day]['counts'] = int(0)\n",
    "        df.loc[day]['rank'] = int(999999999)\n",
    "    # Sort days\n",
    "    df.sort_values(by='time',ascending=True,inplace=True)\n",
    "    # Convert time back to a string\n",
    "    df.index=[t.strftime(\"%Y-%m-%d\") for t in df.index]\n",
    "    # Find the date on which the rank reached its first and most recent (could be the same day) minimum and maximum \n",
    "    output['firstmax']=df[df['rank']==output['maxrank']].index[-1]\n",
    "    output['lastmax']=df[df['rank']==output['maxrank']].index[0]\n",
    "    output['firstmin']=df[df['rank']==output['minrank']].index[-1]\n",
    "    output['lastmin']=df[df['rank']==output['minrank']].index[0]\n",
    "    # Send dates, ranks and counts as arrays to the output dict\n",
    "    output['times']=df.index.values.tolist()\n",
    "    output['ranks']=[int(r) for r in df['rank'].values] # Convert from int64 to Python integers\n",
    "    output['counts']=[int(c) for c in df['counts'].values] # Convert from int64 to Python integers\n",
    "    # Send the object to a JSON file\n",
    "    url = '../ui/data/'+query+'.json'\n",
    "    with open(url, 'w') as outfile:\n",
    "        print('opened ',url)\n",
    "        json.dump(output, outfile)\n",
    "        outfile.close()\n",
    "        print('closed ',url)"
   ]
  },
  {
   "cell_type": "code",
   "execution_count": null,
   "metadata": {},
   "outputs": [],
   "source": [
    "#!flask/bin/python\n",
    "from flask import Flask\n",
    "\n",
    "app = Flask(__name__)\n",
    "\n",
    "@app.route('/')\n",
    "def index():\n",
    "    return \"Hello, World!\"\n",
    "\n",
    "if __name__ == '__main__':\n",
    "    app.run(debug=True, port='3001')"
   ]
  },
  {
   "cell_type": "code",
   "execution_count": null,
   "metadata": {},
   "outputs": [],
   "source": []
  }
 ],
 "metadata": {
  "kernelspec": {
   "display_name": "Python (TestEnv)",
   "language": "python",
   "name": "test_env"
  },
  "language_info": {
   "codemirror_mode": {
    "name": "ipython",
    "version": 3
   },
   "file_extension": ".py",
   "mimetype": "text/x-python",
   "name": "python",
   "nbconvert_exporter": "python",
   "pygments_lexer": "ipython3",
   "version": "3.7.2"
  }
 },
 "nbformat": 4,
 "nbformat_minor": 2
}
