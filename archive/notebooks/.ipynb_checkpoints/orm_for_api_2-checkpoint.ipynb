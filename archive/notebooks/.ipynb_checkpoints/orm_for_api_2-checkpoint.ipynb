{
 "cells": [
  {
   "cell_type": "code",
   "execution_count": 131,
   "metadata": {},
   "outputs": [],
   "source": [
    "import pandas as pd\n",
    "import numpy as np\n",
    "import dash\n",
    "import flask\n",
    "from dash.dependencies import Input, Output\n",
    "import dash_core_components as dcc\n",
    "import dash_html_components as html\n",
    "from pandas_datareader import data as web\n",
    "import datetime as dt\n",
    "import pymongo\n",
    "import datetime"
   ]
  },
  {
   "cell_type": "code",
   "execution_count": 132,
   "metadata": {},
   "outputs": [],
   "source": [
    "from dotenv import load_dotenv\n",
    "load_dotenv()\n",
    "import os\n",
    "password = os.getenv(\"PASSWORD\")\n",
    "username = os.getenv(\"USERNAME\")"
   ]
  },
  {
   "cell_type": "code",
   "execution_count": 134,
   "metadata": {},
   "outputs": [],
   "source": [
    "def generate_object():\n",
    "    # Connect to mongo using the credentials from .env file\n",
    "    client = pymongo.MongoClient('mongodb://%s:%s@127.0.0.1' % (username, password))\n",
    "    # Select the location based on the wordcount (1grams, 2grams, 3grams, etc.), by counting spaces\n",
    "    db = client[str(query.count(' ')+1)+'grams']\n",
    "    output=dict()\n",
    "    output['word']=query\n",
    "    # Build df\n",
    "    df = pd.DataFrame(list(db[language].find({ \"word\": query})));\n",
    "    df=df.dropna(how='all')\n",
    "    df = df.sort_values(by=['time'])\n",
    "    df['year'] = [date.year for date in df['time']]\n",
    "    df['day'] = [date.timetuple().tm_yday for date in df['time']]\n",
    "    # Pull out beginning part of date (YY-MM-DD)\n",
    "    df['time'] = [str(t)[:10] for t in df['time']]\n",
    "    # Convert date to date object\n",
    "    #print(\"Before converting to date object, df.head(10) = \")\n",
    "    #print(df.head(10))\n",
    "    df['time'] = [dt.datetime.strptime(t, '%Y-%m-%d').date() for t in df['time']]\n",
    "    # Remove dates before 2010\n",
    "    #print(\"Before removing early dates, shape is\", df.shape)\n",
    "    df=df[df['time']>=(dt.date(2009,8,1))]\n",
    "    #print(\"After removing early dates, shape is\", df.shape)\n",
    "    # Calculate min, max, and median rank\n",
    "    output['maxrank']=int(min(df['rank'].values))\n",
    "    output['minrank']=int(max(df['rank'].values))\n",
    "    output['medianrank']=int(np.round(np.median(df['rank'].values)))\n",
    "    # Index df by date\n",
    "    #print(\"setting time as index...\")\n",
    "    df.set_index('time',inplace=True)\n",
    "    #print(\"set time as index\")\n",
    "    # Drop the id field (used for indexing in the database)\n",
    "    df.drop(columns=[\"_id\"]);\n",
    "    # Sort days\n",
    "    print(\"sorting by date...\")\n",
    "    df.sort_values(by='time',ascending=True,inplace=True)\n",
    "    print(\"sorted by date\")\n",
    "    # Convert time back to a string\n",
    "    df.index=[t.strftime(\"%Y-%m-%d\") for t in df.index]\n",
    "    # Find the date on which the rank reached its first and most recent (could be the same day) minimum and maximum \n",
    "    output['firstmax']=df[df['rank']==output['maxrank']].index[-1]\n",
    "    output['lastmax']=df[df['rank']==output['maxrank']].index[0]\n",
    "    output['firstmin']=df[df['rank']==output['minrank']].index[-1]\n",
    "    output['lastmin']=df[df['rank']==output['minrank']].index[0]\n",
    "    # Send dates and metrics as arrays to the output dict\n",
    "    output['dates']=df.index.values.tolist()\n",
    "    if 'ranks' in metric:\n",
    "        output['ranks']=[int(r) for r in df['rank'].values] # Convert from int64 to Python integers\n",
    "    if 'counts' in metric:\n",
    "        output['counts']=[int(c) for c in df['counts'].values] # Convert from int64 to Python integers\n",
    "    if 'frequencies' in metric:\n",
    "        output['frequencies']=[float(f) for f in df['freq'].values] # Convert from float64 Python float\n",
    "    return output"
   ]
  },
  {
   "cell_type": "code",
   "execution_count": 138,
   "metadata": {},
   "outputs": [],
   "source": [
    "query='christmas'\n",
    "language='en'\n",
    "metric = ['ranks','counts','frequencies']"
   ]
  },
  {
   "cell_type": "code",
   "execution_count": null,
   "metadata": {},
   "outputs": [],
   "source": [
    "#!flask/bin/python\n",
    "from flask import Flask\n",
    "from flask import abort\n",
    "\n",
    "app = Flask(__name__)\n",
    "\n",
    "@app.route('/api/<str:query>', methods=['GET'])\n",
    "def get_data(query):\n",
    "    if len(query) == 0:\n",
    "        abort(404)\n",
    "    # Pull the language from the URL params, e.g. 'en', 'es', 'ru'\n",
    "    #language = str(request.args.get('language'))\n",
    "    # For now, we're just using english\n",
    "    if language is None:\n",
    "        language = 'en'\n",
    "    # Pull the metric from the URL params, e.g. 'ranks','counts','frequencies'\n",
    "    metric = str(request.args.get('metric'))\n",
    "    if metric is None:\n",
    "        metric = ['ranks','counts','frequencies']\n",
    "    return jsonify(generate_object())\n",
    "\n",
    "if __name__ == '__main__':\n",
    "    app.run(debug=True, port='3001')"
   ]
  }
 ],
 "metadata": {
  "kernelspec": {
   "display_name": "Python (TestEnv)",
   "language": "python",
   "name": "test_env"
  },
  "language_info": {
   "codemirror_mode": {
    "name": "ipython",
    "version": 3
   },
   "file_extension": ".py",
   "mimetype": "text/x-python",
   "name": "python",
   "nbconvert_exporter": "python",
   "pygments_lexer": "ipython3",
   "version": "3.7.2"
  }
 },
 "nbformat": 4,
 "nbformat_minor": 2
}
