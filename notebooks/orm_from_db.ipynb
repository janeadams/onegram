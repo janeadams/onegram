{
 "cells": [
  {
   "cell_type": "code",
   "execution_count": 1,
   "metadata": {},
   "outputs": [],
   "source": [
    "query = ':)'\n",
    "language = 'en'\n",
    "metric = ['rank','counts','freq']"
   ]
  },
  {
   "cell_type": "code",
   "execution_count": 2,
   "metadata": {},
   "outputs": [],
   "source": [
    "import pandas as pd\n",
    "import numpy as np\n",
    "import flask\n",
    "import datetime as dt\n",
    "import pymongo\n",
    "import json\n",
    "import datetime\n",
    "from dotenv import load_dotenv\n",
    "load_dotenv()\n",
    "import os\n",
    "password = os.getenv(\"PASSWORD\")\n",
    "username = os.getenv(\"USERNAME\")"
   ]
  },
  {
   "cell_type": "code",
   "execution_count": 5,
   "metadata": {},
   "outputs": [],
   "source": [
    "def get_data(query):\n",
    "    errs=[]\n",
    "    try:\n",
    "        # Connect to mongo using the credentials from .env file\n",
    "        client = pymongo.MongoClient('mongodb://%s:%s@127.0.0.1' % (username, password))\n",
    "        # Select the location based on the wordcount (1grams, 2grams, 3grams, etc.), by counting spaces\n",
    "        ngram=str(query.count(' ')+1)+'grams'\n",
    "        db = client[ngram]\n",
    "        print(\"connected to mongo client \"+ngram)\n",
    "    except:\n",
    "        return str(\"Couldn't connect to the \"+language+\" \"+ngram+\" database\")\n",
    "    output=dict()\n",
    "    output['word']=query\n",
    "    def add_err(e,errors):\n",
    "        if len(errors) > 0:\n",
    "            errs = [x + e for x in errors]\n",
    "            print(\"adding \",x,\" to errs list\")\n",
    "            print(errs)\n",
    "        else:\n",
    "            errs=[e]\n",
    "    try:\n",
    "        # Build df\n",
    "        df = pd.DataFrame(list(db[language].find({\"word\": query})))\n",
    "        df = df.dropna(how='all')\n",
    "        try:\n",
    "            df = df.sort_values(by=['time'])\n",
    "            df['year'] = [date.year for date in df['time']]\n",
    "            df['day'] = [date.timetuple().tm_yday for date in df['time']]\n",
    "            # Pull out beginning part of date (YY-MM-DD)\n",
    "            df['time'] = [str(t)[:10] for t in df['time']]\n",
    "            # Convert date to date object\n",
    "            df['time'] = [dt.datetime.strptime(t, '%Y-%m-%d').date() for t in df['time']]\n",
    "            # Remove dates before 2010\n",
    "            df=df[df['time']>=(dt.date(2009,8,1))]\n",
    "        except:\n",
    "            output['dates']=[]\n",
    "            add_err('error gathering dates',errs)\n",
    "            pass\n",
    "        # Calculate min, max, and median rank\n",
    "        try:\n",
    "            output['maxrank']=int(min(df['rank'].values))\n",
    "        except:\n",
    "            output['maxrank']=int(0)\n",
    "            add_err('error computing maxrank',errs)\n",
    "            pass\n",
    "        try:\n",
    "            output['minrank']=int(max(df['rank'].values))\n",
    "        except:\n",
    "            output['minrank']=int(0)\n",
    "            add_err('error computing minrank',errs)\n",
    "            pass\n",
    "        try:\n",
    "            output['medianrank']=int(np.round(np.median(df['rank'].values)))\n",
    "        except:\n",
    "            output['medianrank']=int(0)\n",
    "            add_err('error computing medianrank',errs)\n",
    "            pass\n",
    "        # Index df by date\n",
    "        df.set_index('time',inplace=True)\n",
    "        #print('Indexed df by date')\n",
    "        # Drop the id field (used for indexing in the database)\n",
    "        df.drop(columns=[\"_id\"]);\n",
    "        #print('Dropped the id field (used for indexing in the database)')\n",
    "        # Sort by date\n",
    "        df.sort_values(by='time',ascending=True,inplace=True)\n",
    "        #print('Sorted by date')\n",
    "        # Convert time back to a string\n",
    "        df.index=[t.strftime(\"%Y-%m-%d\") for t in df.index]\n",
    "        #print('Converted time back to a string')\n",
    "        # Send dates and metrics as arrays to the output dict\n",
    "        try:\n",
    "            output['dates']=df.index.values.tolist()\n",
    "        except:\n",
    "            output['dates']=[]\n",
    "            add_err('error formatting dates',errs)\n",
    "            pass\n",
    "        #print('Sent dates and metrics as arrays to the output dict')\n",
    "        # Fill the requested metric values\n",
    "        for item in ['rank','counts','freq']:\n",
    "            print('Testing to see if ',item,' is in the list of requested metrics...')\n",
    "            if item in metric:\n",
    "                print('Found ',item,' in list of requested metrics')\n",
    "                try:\n",
    "                    output[item]=[int(r) for r in df[item].values] # Convert from int64 to Python integers\n",
    "                except:\n",
    "                    output[item]=[float(f) for f in df[item].values] # Convert from float64 Python float\n",
    "                    add_err(str('Warning - output['+item+'] is a float: '+output[item][0:5]+'...'),errs)\n",
    "    except:\n",
    "        for item in ['rank','counts','freq']:\n",
    "            if item in metric:\n",
    "                output[item]=[]\n",
    "        add_err(str(\"Couldn't find data for \"+query+\" in the \"+language+\" \"+ngram+\" database\"),errs)\n",
    "    if len(errs) > 0:\n",
    "        output['error_count']=len(errs)\n",
    "        output['errors']=errs\n",
    "    # Send the object to a JSON file\n",
    "    url = '../ui/data/'+query+'.json'\n",
    "    with open(url, 'w') as outfile:\n",
    "        print('opened ',url)\n",
    "        json.dump(output, outfile)\n",
    "        outfile.close()\n",
    "        print('closed ',url)\n",
    "    return output"
   ]
  },
  {
   "cell_type": "code",
   "execution_count": 6,
   "metadata": {},
   "outputs": [
    {
     "name": "stdout",
     "output_type": "stream",
     "text": [
      "connected to mongo client 1grams\n",
      "opened  ../ui/data/:).json\n",
      "closed  ../ui/data/:).json\n"
     ]
    },
    {
     "data": {
      "text/plain": [
       "{'word': ':)',\n",
       " 'dates': [],\n",
       " 'maxrank': 0,\n",
       " 'minrank': 0,\n",
       " 'medianrank': 0,\n",
       " 'rank': [],\n",
       " 'counts': [],\n",
       " 'freq': []}"
      ]
     },
     "execution_count": 6,
     "metadata": {},
     "output_type": "execute_result"
    }
   ],
   "source": [
    "get_data(':)')"
   ]
  },
  {
   "cell_type": "code",
   "execution_count": 10,
   "metadata": {},
   "outputs": [],
   "source": [
    "client = pymongo.MongoClient('mongodb://%s:%s@127.0.0.1' % (username, password))\n",
    "db = client[\"1grams\"]\n",
    "df = pd.DataFrame(list(db['en'].find({\"word\": \":)\"})))"
   ]
  },
  {
   "cell_type": "code",
   "execution_count": 11,
   "metadata": {},
   "outputs": [
    {
     "data": {
      "text/html": [
       "<div>\n",
       "<style scoped>\n",
       "    .dataframe tbody tr th:only-of-type {\n",
       "        vertical-align: middle;\n",
       "    }\n",
       "\n",
       "    .dataframe tbody tr th {\n",
       "        vertical-align: top;\n",
       "    }\n",
       "\n",
       "    .dataframe thead th {\n",
       "        text-align: right;\n",
       "    }\n",
       "</style>\n",
       "<table border=\"1\" class=\"dataframe\">\n",
       "  <thead>\n",
       "    <tr style=\"text-align: right;\">\n",
       "      <th></th>\n",
       "    </tr>\n",
       "  </thead>\n",
       "  <tbody>\n",
       "  </tbody>\n",
       "</table>\n",
       "</div>"
      ],
      "text/plain": [
       "Empty DataFrame\n",
       "Columns: []\n",
       "Index: []"
      ]
     },
     "execution_count": 11,
     "metadata": {},
     "output_type": "execute_result"
    }
   ],
   "source": [
    "df"
   ]
  },
  {
   "cell_type": "code",
   "execution_count": null,
   "metadata": {},
   "outputs": [],
   "source": []
  }
 ],
 "metadata": {
  "kernelspec": {
   "display_name": "Python (TestEnv)",
   "language": "python",
   "name": "test_env"
  },
  "language_info": {
   "codemirror_mode": {
    "name": "ipython",
    "version": 3
   },
   "file_extension": ".py",
   "mimetype": "text/x-python",
   "name": "python",
   "nbconvert_exporter": "python",
   "pygments_lexer": "ipython3",
   "version": "3.7.3"
  }
 },
 "nbformat": 4,
 "nbformat_minor": 2
}
