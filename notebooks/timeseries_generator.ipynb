{
 "cells": [
  {
   "cell_type": "code",
   "execution_count": 1,
   "metadata": {},
   "outputs": [],
   "source": [
    "import pandas as pd\n",
    "import numpy as np\n",
    "import dash\n",
    "import flask\n",
    "from dash.dependencies import Input, Output\n",
    "import dash_core_components as dcc\n",
    "import dash_html_components as html\n",
    "from pandas_datareader import data as web\n",
    "import datetime as dt\n",
    "import pymongo\n",
    "import datetime"
   ]
  },
  {
   "cell_type": "code",
   "execution_count": 2,
   "metadata": {},
   "outputs": [],
   "source": [
    "from dotenv import load_dotenv\n",
    "load_dotenv()\n",
    "import os\n",
    "password = os.getenv(\"PASSWORD\")\n",
    "username = os.getenv(\"USERNAME\")\n",
    "location = os.getenv(\"LOCATION\")\n",
    "collection = os.getenv(\"COLLECTION\")"
   ]
  },
  {
   "cell_type": "code",
   "execution_count": 23,
   "metadata": {},
   "outputs": [
    {
     "data": {
      "text/plain": [
       "'27017/1grams'"
      ]
     },
     "execution_count": 23,
     "metadata": {},
     "output_type": "execute_result"
    }
   ],
   "source": [
    "location"
   ]
  },
  {
   "cell_type": "code",
   "execution_count": 24,
   "metadata": {},
   "outputs": [
    {
     "data": {
      "text/plain": [
       "'en'"
      ]
     },
     "execution_count": 24,
     "metadata": {},
     "output_type": "execute_result"
    }
   ],
   "source": [
    "collection"
   ]
  },
  {
   "cell_type": "code",
   "execution_count": 54,
   "metadata": {},
   "outputs": [],
   "source": [
    "client = pymongo.MongoClient('mongodb://%s:%s@127.0.0.1' % (username, password))\n",
    "db = client[location[6:]]"
   ]
  },
  {
   "cell_type": "code",
   "execution_count": 63,
   "metadata": {},
   "outputs": [],
   "source": [
    "query=\"christmas\""
   ]
  },
  {
   "cell_type": "code",
   "execution_count": 73,
   "metadata": {},
   "outputs": [],
   "source": [
    "output=dict()\n",
    "output['word']=query\n",
    "# Build df\n",
    "df = pd.DataFrame(list(db[collection].find({ \"word\": query})));\n",
    "df=df.dropna(how='all')\n",
    "df = df.sort_values(by=['time'])\n",
    "df['year'] = [date.year for date in df['time']]\n",
    "df['day'] = [date.timetuple().tm_yday for date in df['time']]\n",
    "# Pull out beginning part of date (YY-MM-DD)\n",
    "df['time'] = [str(t)[:10] for t in df['time']]"
   ]
  },
  {
   "cell_type": "code",
   "execution_count": null,
   "metadata": {},
   "outputs": [],
   "source": [
    "# Convert date to date object\n",
    "#print(\"Before converting to date object, df.head(10) = \")\n",
    "#print(df.head(10))\n",
    "df['time'] = [dt.datetime.strptime(t, '%Y-%m-%d').date() for t in df['time']]\n",
    "# Remove dates before 2010\n",
    "#print(\"Before removing early dates, shape is\", df.shape)\n",
    "df=df[df['time']>=(dt.date(2009,8,1))]\n",
    "#print(\"After removing early dates, shape is\", df.shape)"
   ]
  },
  {
   "cell_type": "code",
   "execution_count": null,
   "metadata": {},
   "outputs": [],
   "source": [
    "# Calculate min, max, and median rank\n",
    "output['maxrank']=int(min(df['rank'].values))\n",
    "output['minrank']=int(max(df['rank'].values))\n",
    "output['medianrank']=int(np.round(np.median(df['rank'].values)))"
   ]
  },
  {
   "cell_type": "code",
   "execution_count": null,
   "metadata": {
    "scrolled": true
   },
   "outputs": [],
   "source": [
    "print(output)"
   ]
  },
  {
   "cell_type": "code",
   "execution_count": null,
   "metadata": {},
   "outputs": [],
   "source": [
    "# Index df by date\n",
    "#print(\"setting time as index...\")\n",
    "df.set_index('time',inplace=True)\n",
    "#print(\"set time as index\")"
   ]
  },
  {
   "cell_type": "code",
   "execution_count": 71,
   "metadata": {},
   "outputs": [
    {
     "name": "stdout",
     "output_type": "stream",
     "text": [
      "After adding entries for missing days, df.shape =  (3628, 7)\n"
     ]
    }
   ],
   "source": [
    "# Find today's date\n",
    "dt.datetime.today().date()\n",
    "# How many days should we have in our dataset?\n",
    "daterange=(dt.datetime.today().date()-df.index.min()).days\n",
    "# Which days are we missing data for?\n",
    "# Get a list of all days between today and the beginning of time...\n",
    "missingdays=[(dt.datetime.today() - dt.timedelta(days=x+1)).date() for x in range(daterange)]\n",
    "# ... then remove any days that we *do* have in our data from our list of missing dates:\n",
    "original_shape=df.shape\n",
    "for day in df.index:\n",
    "    try:\n",
    "        missingdays.remove(day)\n",
    "        #print(\"removed \",day)\n",
    "    except:\n",
    "        continue\n",
    "print(\"Before adding entries for missing days, df.shape = \",original_shape)\n",
    "print(\"After adding entries for missing days, df.shape = \",df.shape)\n",
    "print(\"Added \",df.shape[0]-original_shape[0],\" new entries\")"
   ]
  },
  {
   "cell_type": "code",
   "execution_count": 21,
   "metadata": {},
   "outputs": [
    {
     "name": "stdout",
     "output_type": "stream",
     "text": [
      "filling missing days...\n"
     ]
    },
    {
     "name": "stderr",
     "output_type": "stream",
     "text": [
      "/home/janeadams/.conda/envs/test_env/lib/python3.7/site-packages/ipykernel_launcher.py:5: SettingWithCopyWarning:\n",
      "\n",
      "\n",
      "A value is trying to be set on a copy of a slice from a DataFrame\n",
      "\n",
      "See the caveats in the documentation: http://pandas.pydata.org/pandas-docs/stable/indexing.html#indexing-view-versus-copy\n",
      "\n",
      "/home/janeadams/.conda/envs/test_env/lib/python3.7/site-packages/ipykernel_launcher.py:6: SettingWithCopyWarning:\n",
      "\n",
      "\n",
      "A value is trying to be set on a copy of a slice from a DataFrame\n",
      "\n",
      "See the caveats in the documentation: http://pandas.pydata.org/pandas-docs/stable/indexing.html#indexing-view-versus-copy\n",
      "\n",
      "/home/janeadams/.conda/envs/test_env/lib/python3.7/site-packages/ipykernel_launcher.py:7: SettingWithCopyWarning:\n",
      "\n",
      "\n",
      "A value is trying to be set on a copy of a slice from a DataFrame\n",
      "\n",
      "See the caveats in the documentation: http://pandas.pydata.org/pandas-docs/stable/indexing.html#indexing-view-versus-copy\n",
      "\n"
     ]
    },
    {
     "name": "stdout",
     "output_type": "stream",
     "text": [
      "filled missing days\n",
      "After filling missing days, df.head(10)=\n"
     ]
    },
    {
     "data": {
      "text/html": [
       "<div>\n",
       "<style scoped>\n",
       "    .dataframe tbody tr th:only-of-type {\n",
       "        vertical-align: middle;\n",
       "    }\n",
       "\n",
       "    .dataframe tbody tr th {\n",
       "        vertical-align: top;\n",
       "    }\n",
       "\n",
       "    .dataframe thead th {\n",
       "        text-align: right;\n",
       "    }\n",
       "</style>\n",
       "<table border=\"1\" class=\"dataframe\">\n",
       "  <thead>\n",
       "    <tr style=\"text-align: right;\">\n",
       "      <th></th>\n",
       "      <th>_id</th>\n",
       "      <th>counts</th>\n",
       "      <th>freq</th>\n",
       "      <th>rank</th>\n",
       "      <th>word</th>\n",
       "      <th>year</th>\n",
       "      <th>day</th>\n",
       "    </tr>\n",
       "    <tr>\n",
       "      <th>time</th>\n",
       "      <th></th>\n",
       "      <th></th>\n",
       "      <th></th>\n",
       "      <th></th>\n",
       "      <th></th>\n",
       "      <th></th>\n",
       "      <th></th>\n",
       "    </tr>\n",
       "  </thead>\n",
       "  <tbody>\n",
       "    <tr>\n",
       "      <th>2019-07-17</th>\n",
       "      <td>NaN</td>\n",
       "      <td>NaN</td>\n",
       "      <td>NaN</td>\n",
       "      <td>NaN</td>\n",
       "      <td>NaN</td>\n",
       "      <td>NaN</td>\n",
       "      <td>NaN</td>\n",
       "    </tr>\n",
       "    <tr>\n",
       "      <th>2019-07-16</th>\n",
       "      <td>NaN</td>\n",
       "      <td>NaN</td>\n",
       "      <td>NaN</td>\n",
       "      <td>NaN</td>\n",
       "      <td>NaN</td>\n",
       "      <td>NaN</td>\n",
       "      <td>NaN</td>\n",
       "    </tr>\n",
       "    <tr>\n",
       "      <th>2019-07-15</th>\n",
       "      <td>NaN</td>\n",
       "      <td>NaN</td>\n",
       "      <td>NaN</td>\n",
       "      <td>NaN</td>\n",
       "      <td>NaN</td>\n",
       "      <td>NaN</td>\n",
       "      <td>NaN</td>\n",
       "    </tr>\n",
       "    <tr>\n",
       "      <th>2012-04-22</th>\n",
       "      <td>NaN</td>\n",
       "      <td>NaN</td>\n",
       "      <td>NaN</td>\n",
       "      <td>NaN</td>\n",
       "      <td>NaN</td>\n",
       "      <td>NaN</td>\n",
       "      <td>NaN</td>\n",
       "    </tr>\n",
       "    <tr>\n",
       "      <th>2009-12-20</th>\n",
       "      <td>NaN</td>\n",
       "      <td>NaN</td>\n",
       "      <td>NaN</td>\n",
       "      <td>NaN</td>\n",
       "      <td>NaN</td>\n",
       "      <td>NaN</td>\n",
       "      <td>NaN</td>\n",
       "    </tr>\n",
       "    <tr>\n",
       "      <th>2009-12-19</th>\n",
       "      <td>NaN</td>\n",
       "      <td>NaN</td>\n",
       "      <td>NaN</td>\n",
       "      <td>NaN</td>\n",
       "      <td>NaN</td>\n",
       "      <td>NaN</td>\n",
       "      <td>NaN</td>\n",
       "    </tr>\n",
       "    <tr>\n",
       "      <th>2009-12-18</th>\n",
       "      <td>NaN</td>\n",
       "      <td>NaN</td>\n",
       "      <td>NaN</td>\n",
       "      <td>NaN</td>\n",
       "      <td>NaN</td>\n",
       "      <td>NaN</td>\n",
       "      <td>NaN</td>\n",
       "    </tr>\n",
       "    <tr>\n",
       "      <th>2009-08-05</th>\n",
       "      <td>NaN</td>\n",
       "      <td>NaN</td>\n",
       "      <td>NaN</td>\n",
       "      <td>NaN</td>\n",
       "      <td>NaN</td>\n",
       "      <td>NaN</td>\n",
       "      <td>NaN</td>\n",
       "    </tr>\n",
       "    <tr>\n",
       "      <th>2009-08-04</th>\n",
       "      <td>NaN</td>\n",
       "      <td>NaN</td>\n",
       "      <td>NaN</td>\n",
       "      <td>NaN</td>\n",
       "      <td>NaN</td>\n",
       "      <td>NaN</td>\n",
       "      <td>NaN</td>\n",
       "    </tr>\n",
       "    <tr>\n",
       "      <th>2009-08-03</th>\n",
       "      <td>NaN</td>\n",
       "      <td>NaN</td>\n",
       "      <td>NaN</td>\n",
       "      <td>NaN</td>\n",
       "      <td>NaN</td>\n",
       "      <td>NaN</td>\n",
       "      <td>NaN</td>\n",
       "    </tr>\n",
       "  </tbody>\n",
       "</table>\n",
       "</div>"
      ],
      "text/plain": [
       "            _id  counts  freq  rank word  year  day\n",
       "time                                               \n",
       "2019-07-17  NaN     NaN   NaN   NaN  NaN   NaN  NaN\n",
       "2019-07-16  NaN     NaN   NaN   NaN  NaN   NaN  NaN\n",
       "2019-07-15  NaN     NaN   NaN   NaN  NaN   NaN  NaN\n",
       "2012-04-22  NaN     NaN   NaN   NaN  NaN   NaN  NaN\n",
       "2009-12-20  NaN     NaN   NaN   NaN  NaN   NaN  NaN\n",
       "2009-12-19  NaN     NaN   NaN   NaN  NaN   NaN  NaN\n",
       "2009-12-18  NaN     NaN   NaN   NaN  NaN   NaN  NaN\n",
       "2009-08-05  NaN     NaN   NaN   NaN  NaN   NaN  NaN\n",
       "2009-08-04  NaN     NaN   NaN   NaN  NaN   NaN  NaN\n",
       "2009-08-03  NaN     NaN   NaN   NaN  NaN   NaN  NaN"
      ]
     },
     "execution_count": 21,
     "metadata": {},
     "output_type": "execute_result"
    }
   ],
   "source": [
    "# Fill any missing days with placeholder values\n",
    "print(\"filling missing days...\")\n",
    "for day in missingdays:\n",
    "    df.loc[day] = None\n",
    "    df.loc[day]['counts'] = int(0)\n",
    "    df.loc[day]['rank'] = int(999999999)\n",
    "    df.loc[day]['freq'] = float(0.0)\n",
    "#print(\"np.nan = \"+df.loc[df['rank']==np.nan])\n",
    "#print(\"None = \"+df.loc[df['rank']==None])\n",
    "print(\"filled missing days\")\n",
    "print(\"After filling missing days, df.head(10)=\")\n",
    "df.tail(10)"
   ]
  },
  {
   "cell_type": "code",
   "execution_count": 78,
   "metadata": {},
   "outputs": [],
   "source": [
    "head(10) = \")\n",
    "print(df.head(10))\n",
    "# Sort days\n",
    "print(\"sorting by date...\")\n",
    "df.sort_values(by='time',ascending=True,inplace=True)\n",
    "print(\"sorted by date\")\n",
    "# Convert time back to a string\n",
    "df.index=[t.strftime(\"%Y-%m-%d\") for t in df.index]\n",
    "# Find the date on which the rank reached its first and most recent (could be the same day) minimum and maximum \n",
    "output['firstmax']=df[df['rank']==output['maxrank']].index[-1]\n",
    "output['lastmax']=df[df['rank']==output['maxrank']].index[0]\n",
    "output['firstmin']=df[df['rank']==output['minrank']].index[-1]\n",
    "output['lastmin']=df[df['rank']==output['minrank']].index[0]\n",
    "# Send dates, ranks and counts as arrays to the output dict\n",
    "output['times']=df.index.values.tolist()\n",
    "output['ranks']=[int(r) for r in df['rank'].values] # Convert from int64 to Python integers\n",
    "output['counts']=[int(c) for c in df['counts'].values] # Convert from int64 to Python integers\n",
    "output['freq']=[float(f) for f in df['freq'].values] # Convert from float64 Python float\n",
    "# Send the object to a JSON file\n",
    "url = '../ui/data/'+query+'.json'\n",
    "output"
   ]
  },
  {
   "cell_type": "code",
   "execution_count": 79,
   "metadata": {},
   "outputs": [
    {
     "name": "stdout",
     "output_type": "stream",
     "text": [
      "Before converting to date object, df.head(10) = \n",
      "                          _id  counts      freq    rank        time  \\\n",
      "135  5d36a36f7ad7ce04178e1cc9       1  0.001062   327.5  2006-07-01   \n",
      "145  5d36a39a7ad7ce0417968872       1  0.001129   296.0  2006-08-12   \n",
      "123  5d36a3397ad7ce0417847588       1  0.000247  1003.0  2006-09-19   \n",
      "17   5d369fa67ad7ce041cce628a       1  0.000364   710.0  2006-10-09   \n",
      "100  5d36a2f77ad7ce041778a58b       1  0.000338   792.5  2006-10-21   \n",
      "107  5d36a3027ad7ce04177a6e9e       1  0.000234  1049.0  2006-10-29   \n",
      "119  5d36a3337ad7ce0417837630       2  0.000356   444.0  2006-11-03   \n",
      "129  5d36a33e7ad7ce0417855129       1  0.000095  2053.0  2006-11-08   \n",
      "130  5d36a3407ad7ce041785aa86       2  0.000227   630.5  2006-11-09   \n",
      "147  5d36a39b7ad7ce041796b1a0       1  0.000097  2063.5  2006-11-14   \n",
      "\n",
      "          word  year  day  \n",
      "135  christmas  2006  182  \n",
      "145  christmas  2006  224  \n",
      "123  christmas  2006  262  \n",
      "17   christmas  2006  282  \n",
      "100  christmas  2006  294  \n",
      "107  christmas  2006  302  \n",
      "119  christmas  2006  307  \n",
      "129  christmas  2006  312  \n",
      "130  christmas  2006  313  \n",
      "147  christmas  2006  318  \n",
      "Before removing early dates, shape is (3940, 8)\n",
      "After removing early dates, shape is (3628, 8)\n",
      "Before calculating min, max, median rank, df.head(10) = \n",
      "                          _id  counts      freq    rank        time  \\\n",
      "609  5d36bf5b7ad7ce0429ce00ea     150  0.000009  6998.0  2009-08-01   \n",
      "657  5d36c31f7ad7ce042973063b      53  0.000007  8222.5  2009-08-02   \n",
      "685  5d36c54e7ad7ce0429d357d0      36  0.000007  8496.0  2009-08-06   \n",
      "690  5d36c5a77ad7ce0429e2066e     112  0.000007  8482.0  2009-08-07   \n",
      "724  5d36c8237ad7ce04294c99f0     115  0.000008  7685.5  2009-08-08   \n",
      "739  5d36c9297ad7ce042979ef5a     185  0.000009  6510.5  2009-08-09   \n",
      "767  5d36cb597ad7ce0429d947fe     185  0.000008  7439.0  2009-08-10   \n",
      "800  5d36cdd07ad7ce042945e8f3     158  0.000007  8194.0  2009-08-11   \n",
      "819  5d36cf607ad7ce04298a6458     192  0.000008  7569.0  2009-08-12   \n",
      "850  5d36d1a37ad7ce0429ecfcd7     171  0.000007  8152.5  2009-08-13   \n",
      "\n",
      "          word  year  day  \n",
      "609  christmas  2009  213  \n",
      "657  christmas  2009  214  \n",
      "685  christmas  2009  218  \n",
      "690  christmas  2009  219  \n",
      "724  christmas  2009  220  \n",
      "739  christmas  2009  221  \n",
      "767  christmas  2009  222  \n",
      "800  christmas  2009  223  \n",
      "819  christmas  2009  224  \n",
      "850  christmas  2009  225  \n",
      "setting time as index...\n",
      "set time as index\n",
      "Before filling missing days, df.head(10) = \n",
      "                                 _id  counts      freq    rank       word  \\\n",
      "time                                                                        \n",
      "2009-08-01  5d36bf5b7ad7ce0429ce00ea     150  0.000009  6998.0  christmas   \n",
      "2009-08-02  5d36c31f7ad7ce042973063b      53  0.000007  8222.5  christmas   \n",
      "2009-08-06  5d36c54e7ad7ce0429d357d0      36  0.000007  8496.0  christmas   \n",
      "2009-08-07  5d36c5a77ad7ce0429e2066e     112  0.000007  8482.0  christmas   \n",
      "2009-08-08  5d36c8237ad7ce04294c99f0     115  0.000008  7685.5  christmas   \n",
      "2009-08-09  5d36c9297ad7ce042979ef5a     185  0.000009  6510.5  christmas   \n",
      "2009-08-10  5d36cb597ad7ce0429d947fe     185  0.000008  7439.0  christmas   \n",
      "2009-08-11  5d36cdd07ad7ce042945e8f3     158  0.000007  8194.0  christmas   \n",
      "2009-08-12  5d36cf607ad7ce04298a6458     192  0.000008  7569.0  christmas   \n",
      "2009-08-13  5d36d1a37ad7ce0429ecfcd7     171  0.000007  8152.5  christmas   \n",
      "\n",
      "            year  day  \n",
      "time                   \n",
      "2009-08-01  2009  213  \n",
      "2009-08-02  2009  214  \n",
      "2009-08-06  2009  218  \n",
      "2009-08-07  2009  219  \n",
      "2009-08-08  2009  220  \n",
      "2009-08-09  2009  221  \n",
      "2009-08-10  2009  222  \n",
      "2009-08-11  2009  223  \n",
      "2009-08-12  2009  224  \n",
      "2009-08-13  2009  225  \n",
      "filling missing days...\n"
     ]
    },
    {
     "name": "stderr",
     "output_type": "stream",
     "text": [
      "/home/janeadams/.conda/envs/test_env/lib/python3.7/site-packages/ipykernel_launcher.py:46: SettingWithCopyWarning:\n",
      "\n",
      "\n",
      "A value is trying to be set on a copy of a slice from a DataFrame\n",
      "\n",
      "See the caveats in the documentation: http://pandas.pydata.org/pandas-docs/stable/indexing.html#indexing-view-versus-copy\n",
      "\n",
      "/home/janeadams/.conda/envs/test_env/lib/python3.7/site-packages/ipykernel_launcher.py:47: SettingWithCopyWarning:\n",
      "\n",
      "\n",
      "A value is trying to be set on a copy of a slice from a DataFrame\n",
      "\n",
      "See the caveats in the documentation: http://pandas.pydata.org/pandas-docs/stable/indexing.html#indexing-view-versus-copy\n",
      "\n",
      "/home/janeadams/.conda/envs/test_env/lib/python3.7/site-packages/ipykernel_launcher.py:48: SettingWithCopyWarning:\n",
      "\n",
      "\n",
      "A value is trying to be set on a copy of a slice from a DataFrame\n",
      "\n",
      "See the caveats in the documentation: http://pandas.pydata.org/pandas-docs/stable/indexing.html#indexing-view-versus-copy\n",
      "\n"
     ]
    },
    {
     "name": "stdout",
     "output_type": "stream",
     "text": [
      "filled missing days\n",
      "After filling missing days, df.head(10) = \n",
      "                                 _id  counts      freq    rank       word  \\\n",
      "time                                                                        \n",
      "2009-08-01  5d36bf5b7ad7ce0429ce00ea   150.0  0.000009  6998.0  christmas   \n",
      "2009-08-02  5d36c31f7ad7ce042973063b    53.0  0.000007  8222.5  christmas   \n",
      "2009-08-06  5d36c54e7ad7ce0429d357d0    36.0  0.000007  8496.0  christmas   \n",
      "2009-08-07  5d36c5a77ad7ce0429e2066e   112.0  0.000007  8482.0  christmas   \n",
      "2009-08-08  5d36c8237ad7ce04294c99f0   115.0  0.000008  7685.5  christmas   \n",
      "2009-08-09  5d36c9297ad7ce042979ef5a   185.0  0.000009  6510.5  christmas   \n",
      "2009-08-10  5d36cb597ad7ce0429d947fe   185.0  0.000008  7439.0  christmas   \n",
      "2009-08-11  5d36cdd07ad7ce042945e8f3   158.0  0.000007  8194.0  christmas   \n",
      "2009-08-12  5d36cf607ad7ce04298a6458   192.0  0.000008  7569.0  christmas   \n",
      "2009-08-13  5d36d1a37ad7ce0429ecfcd7   171.0  0.000007  8152.5  christmas   \n",
      "\n",
      "              year    day  \n",
      "time                       \n",
      "2009-08-01  2009.0  213.0  \n",
      "2009-08-02  2009.0  214.0  \n",
      "2009-08-06  2009.0  218.0  \n",
      "2009-08-07  2009.0  219.0  \n",
      "2009-08-08  2009.0  220.0  \n",
      "2009-08-09  2009.0  221.0  \n",
      "2009-08-10  2009.0  222.0  \n",
      "2009-08-11  2009.0  223.0  \n",
      "2009-08-12  2009.0  224.0  \n",
      "2009-08-13  2009.0  225.0  \n",
      "sorting by date...\n",
      "sorted by date\n"
     ]
    },
    {
     "ename": "ValueError",
     "evalue": "cannot convert float NaN to integer",
     "output_type": "error",
     "traceback": [
      "\u001b[0;31m---------------------------------------------------------------------------\u001b[0m",
      "\u001b[0;31mValueError\u001b[0m                                Traceback (most recent call last)",
      "\u001b[0;32m<ipython-input-79-ef2e36fd5651>\u001b[0m in \u001b[0;36m<module>\u001b[0;34m\u001b[0m\n\u001b[0;32m----> 1\u001b[0;31m \u001b[0mloadobject\u001b[0m\u001b[0;34m(\u001b[0m\u001b[0;34m'christmas'\u001b[0m\u001b[0;34m)\u001b[0m\u001b[0;34m\u001b[0m\u001b[0;34m\u001b[0m\u001b[0m\n\u001b[0m",
      "\u001b[0;32m<ipython-input-78-3443dbbeb00b>\u001b[0m in \u001b[0;36mloadobject\u001b[0;34m(query)\u001b[0m\n\u001b[1;32m     65\u001b[0m     \u001b[0;31m# Send dates, ranks and counts as arrays to the output dict\u001b[0m\u001b[0;34m\u001b[0m\u001b[0;34m\u001b[0m\u001b[0;34m\u001b[0m\u001b[0m\n\u001b[1;32m     66\u001b[0m     \u001b[0moutput\u001b[0m\u001b[0;34m[\u001b[0m\u001b[0;34m'times'\u001b[0m\u001b[0;34m]\u001b[0m\u001b[0;34m=\u001b[0m\u001b[0mdf\u001b[0m\u001b[0;34m.\u001b[0m\u001b[0mindex\u001b[0m\u001b[0;34m.\u001b[0m\u001b[0mvalues\u001b[0m\u001b[0;34m.\u001b[0m\u001b[0mtolist\u001b[0m\u001b[0;34m(\u001b[0m\u001b[0;34m)\u001b[0m\u001b[0;34m\u001b[0m\u001b[0;34m\u001b[0m\u001b[0m\n\u001b[0;32m---> 67\u001b[0;31m     \u001b[0moutput\u001b[0m\u001b[0;34m[\u001b[0m\u001b[0;34m'ranks'\u001b[0m\u001b[0;34m]\u001b[0m\u001b[0;34m=\u001b[0m\u001b[0;34m[\u001b[0m\u001b[0mint\u001b[0m\u001b[0;34m(\u001b[0m\u001b[0mr\u001b[0m\u001b[0;34m)\u001b[0m \u001b[0;32mfor\u001b[0m \u001b[0mr\u001b[0m \u001b[0;32min\u001b[0m \u001b[0mdf\u001b[0m\u001b[0;34m[\u001b[0m\u001b[0;34m'rank'\u001b[0m\u001b[0;34m]\u001b[0m\u001b[0;34m.\u001b[0m\u001b[0mvalues\u001b[0m\u001b[0;34m]\u001b[0m \u001b[0;31m# Convert from int64 to Python integers\u001b[0m\u001b[0;34m\u001b[0m\u001b[0;34m\u001b[0m\u001b[0m\n\u001b[0m\u001b[1;32m     68\u001b[0m     \u001b[0moutput\u001b[0m\u001b[0;34m[\u001b[0m\u001b[0;34m'counts'\u001b[0m\u001b[0;34m]\u001b[0m\u001b[0;34m=\u001b[0m\u001b[0;34m[\u001b[0m\u001b[0mint\u001b[0m\u001b[0;34m(\u001b[0m\u001b[0mc\u001b[0m\u001b[0;34m)\u001b[0m \u001b[0;32mfor\u001b[0m \u001b[0mc\u001b[0m \u001b[0;32min\u001b[0m \u001b[0mdf\u001b[0m\u001b[0;34m[\u001b[0m\u001b[0;34m'counts'\u001b[0m\u001b[0;34m]\u001b[0m\u001b[0;34m.\u001b[0m\u001b[0mvalues\u001b[0m\u001b[0;34m]\u001b[0m \u001b[0;31m# Convert from int64 to Python integers\u001b[0m\u001b[0;34m\u001b[0m\u001b[0;34m\u001b[0m\u001b[0m\n\u001b[1;32m     69\u001b[0m     \u001b[0moutput\u001b[0m\u001b[0;34m[\u001b[0m\u001b[0;34m'freq'\u001b[0m\u001b[0;34m]\u001b[0m\u001b[0;34m=\u001b[0m\u001b[0;34m[\u001b[0m\u001b[0mfloat\u001b[0m\u001b[0;34m(\u001b[0m\u001b[0mf\u001b[0m\u001b[0;34m)\u001b[0m \u001b[0;32mfor\u001b[0m \u001b[0mf\u001b[0m \u001b[0;32min\u001b[0m \u001b[0mdf\u001b[0m\u001b[0;34m[\u001b[0m\u001b[0;34m'freq'\u001b[0m\u001b[0;34m]\u001b[0m\u001b[0;34m.\u001b[0m\u001b[0mvalues\u001b[0m\u001b[0;34m]\u001b[0m \u001b[0;31m# Convert from float64 Python float\u001b[0m\u001b[0;34m\u001b[0m\u001b[0;34m\u001b[0m\u001b[0m\n",
      "\u001b[0;32m<ipython-input-78-3443dbbeb00b>\u001b[0m in \u001b[0;36m<listcomp>\u001b[0;34m(.0)\u001b[0m\n\u001b[1;32m     65\u001b[0m     \u001b[0;31m# Send dates, ranks and counts as arrays to the output dict\u001b[0m\u001b[0;34m\u001b[0m\u001b[0;34m\u001b[0m\u001b[0;34m\u001b[0m\u001b[0m\n\u001b[1;32m     66\u001b[0m     \u001b[0moutput\u001b[0m\u001b[0;34m[\u001b[0m\u001b[0;34m'times'\u001b[0m\u001b[0;34m]\u001b[0m\u001b[0;34m=\u001b[0m\u001b[0mdf\u001b[0m\u001b[0;34m.\u001b[0m\u001b[0mindex\u001b[0m\u001b[0;34m.\u001b[0m\u001b[0mvalues\u001b[0m\u001b[0;34m.\u001b[0m\u001b[0mtolist\u001b[0m\u001b[0;34m(\u001b[0m\u001b[0;34m)\u001b[0m\u001b[0;34m\u001b[0m\u001b[0;34m\u001b[0m\u001b[0m\n\u001b[0;32m---> 67\u001b[0;31m     \u001b[0moutput\u001b[0m\u001b[0;34m[\u001b[0m\u001b[0;34m'ranks'\u001b[0m\u001b[0;34m]\u001b[0m\u001b[0;34m=\u001b[0m\u001b[0;34m[\u001b[0m\u001b[0mint\u001b[0m\u001b[0;34m(\u001b[0m\u001b[0mr\u001b[0m\u001b[0;34m)\u001b[0m \u001b[0;32mfor\u001b[0m \u001b[0mr\u001b[0m \u001b[0;32min\u001b[0m \u001b[0mdf\u001b[0m\u001b[0;34m[\u001b[0m\u001b[0;34m'rank'\u001b[0m\u001b[0;34m]\u001b[0m\u001b[0;34m.\u001b[0m\u001b[0mvalues\u001b[0m\u001b[0;34m]\u001b[0m \u001b[0;31m# Convert from int64 to Python integers\u001b[0m\u001b[0;34m\u001b[0m\u001b[0;34m\u001b[0m\u001b[0m\n\u001b[0m\u001b[1;32m     68\u001b[0m     \u001b[0moutput\u001b[0m\u001b[0;34m[\u001b[0m\u001b[0;34m'counts'\u001b[0m\u001b[0;34m]\u001b[0m\u001b[0;34m=\u001b[0m\u001b[0;34m[\u001b[0m\u001b[0mint\u001b[0m\u001b[0;34m(\u001b[0m\u001b[0mc\u001b[0m\u001b[0;34m)\u001b[0m \u001b[0;32mfor\u001b[0m \u001b[0mc\u001b[0m \u001b[0;32min\u001b[0m \u001b[0mdf\u001b[0m\u001b[0;34m[\u001b[0m\u001b[0;34m'counts'\u001b[0m\u001b[0;34m]\u001b[0m\u001b[0;34m.\u001b[0m\u001b[0mvalues\u001b[0m\u001b[0;34m]\u001b[0m \u001b[0;31m# Convert from int64 to Python integers\u001b[0m\u001b[0;34m\u001b[0m\u001b[0;34m\u001b[0m\u001b[0m\n\u001b[1;32m     69\u001b[0m     \u001b[0moutput\u001b[0m\u001b[0;34m[\u001b[0m\u001b[0;34m'freq'\u001b[0m\u001b[0;34m]\u001b[0m\u001b[0;34m=\u001b[0m\u001b[0;34m[\u001b[0m\u001b[0mfloat\u001b[0m\u001b[0;34m(\u001b[0m\u001b[0mf\u001b[0m\u001b[0;34m)\u001b[0m \u001b[0;32mfor\u001b[0m \u001b[0mf\u001b[0m \u001b[0;32min\u001b[0m \u001b[0mdf\u001b[0m\u001b[0;34m[\u001b[0m\u001b[0;34m'freq'\u001b[0m\u001b[0;34m]\u001b[0m\u001b[0;34m.\u001b[0m\u001b[0mvalues\u001b[0m\u001b[0;34m]\u001b[0m \u001b[0;31m# Convert from float64 Python float\u001b[0m\u001b[0;34m\u001b[0m\u001b[0;34m\u001b[0m\u001b[0m\n",
      "\u001b[0;31mValueError\u001b[0m: cannot convert float NaN to integer"
     ]
    }
   ],
   "source": [
    "loadobject('christmas')"
   ]
  },
  {
   "cell_type": "code",
   "execution_count": null,
   "metadata": {
    "collapsed": true
   },
   "outputs": [],
   "source": []
  },
  {
   "cell_type": "markdown",
   "metadata": {},
   "source": [
    "# Input box for query"
   ]
  },
  {
   "cell_type": "code",
   "execution_count": null,
   "metadata": {},
   "outputs": [],
   "source": [
    "external_stylesheets = ['styles.css']\n",
    "\n",
    "server = flask.Flask(__name__)\n",
    "\n",
    "app = dash.Dash(__name__, server=server, external_stylesheets=external_stylesheets)\n",
    "\n",
    "data=[]\n",
    "\n",
    "app.layout = html.Div([\n",
    "    html.H1('Twitter 1-grams'),\n",
    "    dcc.Input(id='my-id', value='@realdonaldtrump', type='text'),\n",
    "    dcc.Graph(id='my-graph',figure={'layout': {'yaxis': {'autorange': 'reversed', 'type':'log'}}}),\n",
    "])\n",
    "\n",
    "@app.callback(Output('my-graph', 'figure'), [Input('my-id', 'value')])\n",
    "def update_graph(input_value):\n",
    "    layout={\n",
    "        'yaxis': {'autorange': 'reversed', 'type':'log'},\n",
    "    }\n",
    "    figure = {'data':data, 'layout':layout}\n",
    "    input_value = input_value.replace({\"   \":\",\",\"  \":\",\",\" \":\",\",\",,\":\",\",\",,,\":\",\"})\n",
    "    values = input_value.split(',')\n",
    "    for item in values:\n",
    "        item = lower(item)\n",
    "        df = load(item)\n",
    "        data.append({'x':df['time'], 'y':df['rank'],'name':item})\n",
    "    return figure\n",
    "\n",
    "if __name__ == '__main__':\n",
    "    app.run_server(port=8051, host='0.0.0.0')"
   ]
  },
  {
   "cell_type": "markdown",
   "metadata": {},
   "source": [
    "# Dropdown for query"
   ]
  },
  {
   "cell_type": "markdown",
   "metadata": {},
   "source": [
    "### Load wordlist"
   ]
  },
  {
   "cell_type": "code",
   "execution_count": null,
   "metadata": {},
   "outputs": [],
   "source": [
    "import csv\n",
    "wordlist = []\n",
    "with open('wordlist_from-df.csv', 'rt') as f:\n",
    "    reader = csv.reader(f)\n",
    "    next(reader)\n",
    "    wordlist=list(reader)"
   ]
  },
  {
   "cell_type": "code",
   "execution_count": null,
   "metadata": {},
   "outputs": [],
   "source": [
    "wordDF=pd.DataFrame(wordlist, columns=['word','rank'])"
   ]
  },
  {
   "cell_type": "code",
   "execution_count": null,
   "metadata": {},
   "outputs": [],
   "source": [
    "wordDF=wordDF[wordDF['rank']!='Rank']"
   ]
  },
  {
   "cell_type": "code",
   "execution_count": null,
   "metadata": {},
   "outputs": [],
   "source": [
    "wordDF=wordDF[wordDF['rank']!='minRank']"
   ]
  },
  {
   "cell_type": "code",
   "execution_count": null,
   "metadata": {},
   "outputs": [],
   "source": [
    "wordDF['rank']=wordDF['rank'].astype(int);"
   ]
  },
  {
   "cell_type": "markdown",
   "metadata": {},
   "source": [
    "### Dropdown with under 5k"
   ]
  },
  {
   "cell_type": "code",
   "execution_count": null,
   "metadata": {},
   "outputs": [],
   "source": [
    "wordDF[wordDF['rank']<5000].shape"
   ]
  },
  {
   "cell_type": "code",
   "execution_count": null,
   "metadata": {},
   "outputs": [],
   "source": [
    "options = []\n",
    "wordDF_filtered = wordDF[wordDF['rank']<5000]\n",
    "for word in wordDF_filtered['word']:\n",
    "    options.append({'label': word,'value': word})"
   ]
  },
  {
   "cell_type": "code",
   "execution_count": null,
   "metadata": {},
   "outputs": [],
   "source": [
    "options[:5]"
   ]
  },
  {
   "cell_type": "code",
   "execution_count": null,
   "metadata": {},
   "outputs": [],
   "source": [
    "options[100:105]"
   ]
  },
  {
   "cell_type": "code",
   "execution_count": null,
   "metadata": {},
   "outputs": [],
   "source": [
    "external_stylesheets = ['styles.css']\n",
    "\n",
    "server = flask.Flask(__name__)\n",
    "\n",
    "app = dash.Dash(__name__, server=server, external_stylesheets=external_stylesheets)\n",
    "\n",
    "app.layout = html.Div([\n",
    "    html.H1('Twitter 1-grams'),\n",
    "    html.P('This shows any one-grams that cracked the top 5k rank at any time (47,844 onegrams)'),\n",
    "    html.Div([\n",
    "        dcc.Dropdown(id='my-dropdown', options=options, value=['@realdonaldtrump','@bts_twt'], multi=True)]),\n",
    "    dcc.Graph(id='my-graph',figure={'layout': {'yaxis': {'autorange': 'reversed', 'type':'log'}}})\n",
    "])\n",
    "\n",
    "@app.callback(Output('my-graph', 'figure'), [Input('my-dropdown', 'value')])\n",
    "\n",
    "def update_graph(input_value):\n",
    "    data=[]\n",
    "    layout={\n",
    "        'yaxis': {'autorange': 'reversed', 'type':'log'},\n",
    "    }\n",
    "    figure = {'data':data, 'layout':layout}\n",
    "    input_value = input_value.replace({\"   \":\",\",\"  \":\",\",\" \":\",\",\",,\":\",\",\",,,\":\",\"})\n",
    "    for item in input_value:\n",
    "        item = lower(item)\n",
    "        df = load(item)\n",
    "        data.append({'x':df['time'], 'y':df['rank'],'name':item})\n",
    "    return figure\n",
    "\n",
    "\n",
    "if __name__ == '__main__':\n",
    "    app.run_server(port=8051, host='0.0.0.0')"
   ]
  },
  {
   "cell_type": "markdown",
   "metadata": {},
   "source": [
    "### Dropdown of under 1k list, with ability to add options"
   ]
  },
  {
   "cell_type": "code",
   "execution_count": null,
   "metadata": {},
   "outputs": [],
   "source": [
    "options = []\n",
    "wordDF_filtered = wordDF[wordDF['rank']<1000]\n",
    "wordDF_filtered=wordDF_filtered.sort_values(by='rank')\n",
    "for word in wordDF_filtered['word']:\n",
    "    options.append(word)"
   ]
  },
  {
   "cell_type": "code",
   "execution_count": null,
   "metadata": {},
   "outputs": [],
   "source": [
    "external_stylesheets = ['styles.css']\n",
    "\n",
    "server = flask.Flask(__name__)\n",
    "\n",
    "app = dash.Dash(__name__, server=server, external_stylesheets=external_stylesheets)\n",
    "\n",
    "app.layout = html.Div([\n",
    "    html.H1('Twitter 1-grams'),\n",
    "    html.P('Select a one-gram that cracked the top 1k rank at any time (1,056 onegrams)'),\n",
    "    html.Datalist(id=\"wordlist\", children=[]),\n",
    "    dcc.Input(\n",
    "        id='input-field',\n",
    "        name='symbol',\n",
    "        list='wordlist',\n",
    "        placeholder='Enter a value...',\n",
    "        type='text',\n",
    "        value='trump'\n",
    "    ),\n",
    "    dcc.Graph(id='my-graph',figure={'layout': {'yaxis': {'autorange': 'reversed', 'type':'log'}}})\n",
    "])\n",
    "\n",
    "@app.callback(Output('wordlist', 'children'),[Input('input-field', 'value')])\n",
    "def callback(item):\n",
    "    if len(item) < 5:\n",
    "        wordDF_filtered = wordDF[wordDF['rank']<1000]\n",
    "    else:\n",
    "        wordDF_filtered = wordDF[wordDF['word'].str.contains(item)]\n",
    "    for word in wordDF_filtered:\n",
    "        options.append(word)\n",
    "    return options\n",
    "\n",
    "@app.callback(Output('my-graph', 'figure'), [Input('input-field', 'value')])\n",
    "def update_graph(input_value):\n",
    "    data=[]\n",
    "    layout={\n",
    "        'yaxis': {'autorange': 'reversed', 'type':'log'},\n",
    "    }\n",
    "    figure = {'data':data, 'layout':layout}\n",
    "    input_value = input_value.replace({\"   \":\",\",\"  \":\",\",\" \":\",\",\",,\":\",\",\",,,\":\",\"})\n",
    "    values = input_value.split(',')\n",
    "    for item in values:\n",
    "        item = lower(item)\n",
    "        df = load(item)\n",
    "        data.append({'x':df['time'], 'y':df['rank'],'name':item})\n",
    "    return figure\n",
    "\n",
    "\n",
    "if __name__ == '__main__':\n",
    "    app.run_server(port=8051, host='0.0.0.0')"
   ]
  },
  {
   "cell_type": "markdown",
   "metadata": {},
   "source": [
    "### Dynamic Dropdown (abandoned)"
   ]
  },
  {
   "cell_type": "code",
   "execution_count": null,
   "metadata": {},
   "outputs": [],
   "source": [
    "external_stylesheets = ['styles.css']\n",
    "\n",
    "server = flask.Flask(__name__)\n",
    "\n",
    "app = dash.Dash(__name__, server=server, external_stylesheets=external_stylesheets)\n",
    "\n",
    "app.layout = html.Div([\n",
    "    html.H1('Twitter 1-grams'),\n",
    "    html.P('Select a one-gram that cracked the top 5k rank at any time (47,844 onegrams)'),\n",
    "    html.Div([\n",
    "        dcc.Dropdown(id='my-dropdown', options=options, value=['@realdonaldtrump','@bts_twt'], multi=True)]),\n",
    "    dcc.Graph(id='my-graph',figure={'layout': {'yaxis': {'autorange': 'reversed', 'type':'log'}}})\n",
    "])\n",
    "\n",
    "@app.callback(Output('my-graph', 'figure'), [Input('my-dropdown', 'value')])\n",
    "\n",
    "def update_graph(input_value):\n",
    "    data=[]\n",
    "    layout={\n",
    "        'yaxis': {'autorange': 'reversed', 'type':'log'},\n",
    "    }\n",
    "    figure = {'data':data, 'layout':layout}\n",
    "    for item in input_value:\n",
    "        item = lower(item)\n",
    "        df = load(item)\n",
    "        data.append({'x':df['time'], 'y':df['rank'],'name':item})\n",
    "    return figure\n",
    "\n",
    "@app.callback(Output('my-dropdown', 'options'), [Input('my-dropdown', 'value')])\n",
    "\n",
    "def update_options(input_value):\n",
    "    for item in input_value:\n",
    "        if len(item) < 5:\n",
    "            wordDF_filtered = wordDF[wordDF['rank']<1000]\n",
    "        else:\n",
    "            wordDF_filtered = wordDF[wordDF['word'].str.contains(item)]\n",
    "        for word in wordDF_filtered:\n",
    "            options.append({'label': word[0],'value': word[0]})\n",
    "    return options\n",
    "\n",
    "\n",
    "if __name__ == '__main__':\n",
    "    app.run_server(port=8051, host='0.0.0.0')"
   ]
  },
  {
   "cell_type": "code",
   "execution_count": null,
   "metadata": {},
   "outputs": [],
   "source": []
  }
 ],
 "metadata": {
  "kernelspec": {
   "display_name": "Python (TestEnv)",
   "language": "python",
   "name": "test_env"
  },
  "language_info": {
   "codemirror_mode": {
    "name": "ipython",
    "version": 3
   },
   "file_extension": ".py",
   "mimetype": "text/x-python",
   "name": "python",
   "nbconvert_exporter": "python",
   "pygments_lexer": "ipython3",
   "version": "3.7.2"
  }
 },
 "nbformat": 4,
 "nbformat_minor": 2
}
